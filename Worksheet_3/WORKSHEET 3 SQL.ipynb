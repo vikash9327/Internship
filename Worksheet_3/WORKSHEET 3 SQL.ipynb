{
 "cells": [
  {
   "cell_type": "code",
   "execution_count": 1,
   "id": "6bc9255f",
   "metadata": {},
   "outputs": [],
   "source": [
    "# Import module\n",
    "import sqlite3"
   ]
  },
  {
   "cell_type": "code",
   "execution_count": 2,
   "id": "dc60dc17",
   "metadata": {},
   "outputs": [],
   "source": [
    "# Connecting to sqlite\n",
    "conn = sqlite3.connect('stores.db')\n"
   ]
  },
  {
   "cell_type": "code",
   "execution_count": 3,
   "id": "490c54c0",
   "metadata": {},
   "outputs": [],
   "source": [
    "#declare cursor\n",
    "cursor= conn.cursor()"
   ]
  },
  {
   "cell_type": "markdown",
   "id": "efc56f51",
   "metadata": {},
   "source": [
    "## 1. Write SQL query to create table Customers."
   ]
  },
  {
   "cell_type": "code",
   "execution_count": 4,
   "id": "89bd8411",
   "metadata": {},
   "outputs": [],
   "source": [
    "command=\"\"\"CREATE TABLE Customers(customerNumber INTEGER PRIMARY KEY,\n",
    "customerName VARCHAR(30),contactLastName VARCHAR(15),\n",
    "contactFirstName VARCHAR(15),phone INTEGER(10),\n",
    "addressLine1 VARCHAR(30),addressLine2 VARCHAR(30),\n",
    "city CHAR(20),state CHAR(20),postalCode INTERGER(6),\n",
    "country CHAR(20),saleRepEmployeeNumber INTEGER(30),creditlimit INTEGER(10));\"\"\""
   ]
  },
  {
   "cell_type": "code",
   "execution_count": 5,
   "id": "def2ad3b",
   "metadata": {},
   "outputs": [
    {
     "data": {
      "text/plain": [
       "<sqlite3.Cursor at 0x1f4791c2500>"
      ]
     },
     "execution_count": 5,
     "metadata": {},
     "output_type": "execute_result"
    }
   ],
   "source": [
    "cursor.execute(command)"
   ]
  },
  {
   "cell_type": "code",
   "execution_count": 26,
   "id": "a4c924be",
   "metadata": {},
   "outputs": [
    {
     "data": {
      "text/plain": [
       "<sqlite3.Cursor at 0x1f4791c2500>"
      ]
     },
     "execution_count": 26,
     "metadata": {},
     "output_type": "execute_result"
    }
   ],
   "source": [
    "sql_command = \"\"\"INSERT INTO Customers VALUES \n",
    "(1, \"Rishabh Bansal\", \"Bansal\", \"Rishabh\",  0000000000,\"Road No. 72\", \"Karkardooma\", \"East Delhi\",\"Delhi\", 110032, \"INDIA\", 101, 1000000),\n",
    "(2, \"Swati Juneja\", \"Juneja\", \"Swati\",  1111111111, \"ISBM\", \"Jagraon Bridge\", \"Ludhiana\", \"Punjab\", 141008, \"INDIA\", 102, 1200000),\n",
    "(3, \"Arti Aggarwal\", \"Aggarwal\", \"Arti\", 2222222222, \"Road No 202\", \"Dwarka\", \"South Delhi\",  \"Delhi\", 110075, \"INDIA\", 103, 3000000),\n",
    "(4, \"Vidyut Thakur\", \"Thakur\", \"Vidyut\", 3333333333, \"Preet Nagar\", \"Akalsar Road\", \"Moga\",\"Punjab\", 142001, \"INDIA\", 104, 5000000),\n",
    "(5, \"Rishabh Rathore\", \"Rathore\", \"Rishabh\", 4444444444, \"Cross Road\", \"Indiranagar\", \"Bengaluru\",\"Karnataka\", 560038, \"INDIA\", 105, 2000000),\n",
    "(6, \"Mahima Chaudhary\", \"Chaudhary\", \"Mahima\", 5555555555, \"Budhpur\", \"Alipur\", \"North Delhi\", \"Delhi\", 110036, \"INDIA\", 106, 1800000),\n",
    "(7, \"Ritika Bansal\", \"Bansal\", \"Ritika\", 6666666666,  \"Santhusapet\",\" Bengaluru North\", \"Bengaluru\",\"Karnataka\", 560053, \"INDIA\", 107, 20000000),\n",
    "(8, \"Juhi Taneja\", \"Taneja\", \"Juhi\", 7777777777,\"Shahibabad\", \"Anand Vihar\", \"Ghaziabad\", \"UP\", 201005, \"INDIA\", 108, 7000000),\n",
    "(9,  \"Sunita Chaudhary\", \"Chaudhary\", \"Sunita\", 8888888888, \"Sant Namdev Path\", \"Gokhale Road\", \"Thane\", \"Maharashtra\", 400601, \"INDIA\", 109, 4000000),\n",
    "(10, \"Rudra Khurana\", \"Khurana\", \"Rudra\", 9999999999, \"B Block Road\", \"Preet Vihar\", \"East Delhi\", \"Delhi\", 110092, \"INDIA\", 110, 1400000),\n",
    "(11, \"Vaibhav Aggarwal\", \"Aggarwal\", \"Vaibhav\", 9125111111, \"LPU\", \"Phagwara\", \"Kapurthala\", \"Punjab\", 144401, \"INDIA\", 111, 50000000),\n",
    "(12, \"Mitali Bansal\", \"Bansal\", \"Mitali\", 5252525252, \"Shivaji Park\", \"Punjabi Bagh\", \"West Delhi\", \"Delhi\", 110026, \"INDIA\", 112, 1500000),\n",
    "(13, \"Rishabh Rathore\", \"Rathore\", \"Rishabh\", 8899995522, \"Vijay Nagar Main Road\", \"Vijay Nagar\", \"Bengaluru\", \"Karnataka\", 560040, \"INDIA\", 113, 25000000);\"\"\"\n",
    "\n",
    "# execute the statement\n",
    "cursor.execute(sql_command)"
   ]
  },
  {
   "cell_type": "code",
   "execution_count": 6,
   "id": "a0e8dd43",
   "metadata": {},
   "outputs": [],
   "source": [
    "conn.commit()"
   ]
  },
  {
   "cell_type": "markdown",
   "id": "e2be9914",
   "metadata": {},
   "source": [
    "## 2. Write SQL query to create table Orders."
   ]
  },
  {
   "cell_type": "code",
   "execution_count": 7,
   "id": "e4c07b12",
   "metadata": {},
   "outputs": [],
   "source": [
    "command=\"\"\"CREATE TABLE Orders(orderNumber INTEGER PRIMARY KEY,\n",
    "orderDate DATE(10),requiredDate DATE(10),shippedDate DATE(10),\n",
    "status CHAR(10),comments VARCHAR(30),customerNumber INTEGER(10),\n",
    "FOREIGN KEY(customerNumber) REFERENCES Customers(customerNumber));\"\"\""
   ]
  },
  {
   "cell_type": "code",
   "execution_count": 8,
   "id": "3d5407a3",
   "metadata": {},
   "outputs": [
    {
     "data": {
      "text/plain": [
       "<sqlite3.Cursor at 0x1f4791c2500>"
      ]
     },
     "execution_count": 8,
     "metadata": {},
     "output_type": "execute_result"
    }
   ],
   "source": [
    "cursor.execute(command)"
   ]
  },
  {
   "cell_type": "code",
   "execution_count": 9,
   "id": "316f9515",
   "metadata": {},
   "outputs": [],
   "source": [
    "conn.commit()"
   ]
  },
  {
   "cell_type": "code",
   "execution_count": 10,
   "id": "1d5811d5",
   "metadata": {},
   "outputs": [],
   "source": [
    "command = \"\"\"INSERT INTO Orders VALUES\n",
    "(1, \"2022-10-10\", \"2022-10-10\", \"2022-10-10\", \"Shipped\", \"Good\", 1),\n",
    "(2, \"2022-10-10\", \"2022-10-10\", \"2022-10-10\", \"Dispatched\", \"Nice\", 2),\n",
    "(3, \"2022-10-10\", \"2022-10-10\", \"2022-10-10\", \"In Transit\", \"Not Good\", 3),\n",
    "(4, \"2022-10-10\", \"2022-10-10\", \"2022-10-10\", \"Delivered\", \"Awesome\", 4),\n",
    "(5, \"2022-10-10\", \"2022-10-11\", \"2022-10-11\", \"Dispatched\", \"Perfect\", 5),\n",
    "(6, \"2022-10-10\", \"2022-10-11\", \"2022-10-11\", \"In Transit\", \"Wrong Product\", 6),\n",
    "(7, \"2022-10-11\", \"2022-10-11\", \"2022-10-11\", \"Shipped\", \"Defective\", 7),\n",
    "(8, \"2022-10-11\", \"2022-10-11\", \"2022-10-11\", \"Dispatched\", \"Good\", 8),\n",
    "(9, \"2022-10-11\", \"2022-10-11\", \"2022-10-11\", \"Dispatched\", \"Amazing\", 9),\n",
    "(10, \"2022-10-11\", \"2022-10-12\", \"2022-10-12\", \"In Transit\", \"Bad\", 10),\n",
    "(11, \"2022-10-11\", \"2022-10-12\", \"2022-10-12\", \"Delivered\", \"Good Quality\", 11),\n",
    "(12, \"2022-10-11\", \"2022-10-13\", \"2022-10-12\", \"Dispatched\", \"Good Taste\", 12),\n",
    "(13, \"2022-10-11\", \"2022-10-13\", \"2022-10-12\", \"Delivered\", \"Fast\", 13);\"\"\" "
   ]
  },
  {
   "cell_type": "code",
   "execution_count": 11,
   "id": "ab47a5b4",
   "metadata": {},
   "outputs": [
    {
     "data": {
      "text/plain": [
       "<sqlite3.Cursor at 0x1f4791c2500>"
      ]
     },
     "execution_count": 11,
     "metadata": {},
     "output_type": "execute_result"
    }
   ],
   "source": [
    "cursor.execute(command)"
   ]
  },
  {
   "cell_type": "markdown",
   "id": "4d2fbbd4",
   "metadata": {},
   "source": [
    "## 3. Write SQL query to show all the columns data from the Orders Table."
   ]
  },
  {
   "cell_type": "code",
   "execution_count": 12,
   "id": "b1f778c0",
   "metadata": {},
   "outputs": [
    {
     "name": "stdout",
     "output_type": "stream",
     "text": [
      "(1, '2022-10-10', '2022-10-10', '2022-10-10', 'Shipped', 'Good', 1)\n",
      "(2, '2022-10-10', '2022-10-10', '2022-10-10', 'Dispatched', 'Nice', 2)\n",
      "(3, '2022-10-10', '2022-10-10', '2022-10-10', 'In Transit', 'Not Good', 3)\n",
      "(4, '2022-10-10', '2022-10-10', '2022-10-10', 'Delivered', 'Awesome', 4)\n",
      "(5, '2022-10-10', '2022-10-11', '2022-10-11', 'Dispatched', 'Perfect', 5)\n",
      "(6, '2022-10-10', '2022-10-11', '2022-10-11', 'In Transit', 'Wrong Product', 6)\n",
      "(7, '2022-10-11', '2022-10-11', '2022-10-11', 'Shipped', 'Defective', 7)\n",
      "(8, '2022-10-11', '2022-10-11', '2022-10-11', 'Dispatched', 'Good', 8)\n",
      "(9, '2022-10-11', '2022-10-11', '2022-10-11', 'Dispatched', 'Amazing', 9)\n",
      "(10, '2022-10-11', '2022-10-12', '2022-10-12', 'In Transit', 'Bad', 10)\n",
      "(11, '2022-10-11', '2022-10-12', '2022-10-12', 'Delivered', 'Good Quality', 11)\n",
      "(12, '2022-10-11', '2022-10-13', '2022-10-12', 'Dispatched', 'Good Taste', 12)\n",
      "(13, '2022-10-11', '2022-10-13', '2022-10-12', 'Delivered', 'Fast', 13)\n"
     ]
    }
   ],
   "source": [
    "sqlt=\"\"\"SELECT * FROM Orders;\"\"\"\n",
    "select= cursor.execute(sqlt)\n",
    "for i in select:\n",
    "    print(i)"
   ]
  },
  {
   "cell_type": "markdown",
   "id": "44087c59",
   "metadata": {},
   "source": [
    "## 4. Write SQL query to show all the comments from the Orders Table."
   ]
  },
  {
   "cell_type": "code",
   "execution_count": 13,
   "id": "a16d5aec",
   "metadata": {},
   "outputs": [
    {
     "name": "stdout",
     "output_type": "stream",
     "text": [
      "('Good',)\n",
      "('Nice',)\n",
      "('Not Good',)\n",
      "('Awesome',)\n",
      "('Perfect',)\n",
      "('Wrong Product',)\n",
      "('Defective',)\n",
      "('Good',)\n",
      "('Amazing',)\n",
      "('Bad',)\n",
      "('Good Quality',)\n",
      "('Good Taste',)\n",
      "('Fast',)\n"
     ]
    }
   ],
   "source": [
    "sqlc = \"\"\"SELECT comments FROM Orders;\"\"\"\n",
    "select= cursor.execute(sqlc)\n",
    "for i in select:\n",
    "    print(i)"
   ]
  },
  {
   "cell_type": "markdown",
   "id": "6a5c0938",
   "metadata": {},
   "source": [
    "## 5. Write a SQL query to show orderDate and Total number of orders placed on that date, from Orders table."
   ]
  },
  {
   "cell_type": "code",
   "execution_count": 14,
   "id": "717d1d29",
   "metadata": {},
   "outputs": [
    {
     "name": "stdout",
     "output_type": "stream",
     "text": [
      "('2022-10-10', 6)\n",
      "('2022-10-11', 7)\n"
     ]
    }
   ],
   "source": [
    "sqld = \"\"\"SELECT date (orderDate), COUNT(*) FROM Orders GROUP BY date (orderDate);\"\"\"\n",
    "select= cursor.execute(sqld)\n",
    "for i in select:\n",
    "    print(i)"
   ]
  },
  {
   "cell_type": "markdown",
   "id": "22f895cd",
   "metadata": {},
   "source": [
    "## 6.Write a SQL query to show employeNumber, lastName, firstName of all the employees from employees table."
   ]
  },
  {
   "cell_type": "code",
   "execution_count": 15,
   "id": "69ade0c7",
   "metadata": {},
   "outputs": [],
   "source": [
    "command=\"\"\" CREATE TABLE Employees( employeesNumber INTEGER PRIMARY KEY,\n",
    "lastName VARCHAR(15),\n",
    "firstName VARCHAR(15),\n",
    "extension INTEGER(5),\n",
    "email VARCAHR(30),\n",
    "officeCode INTEGER(6),\n",
    "reportsTo CHAR(20),\n",
    "jobTitle CHAR(20));\"\"\""
   ]
  },
  {
   "cell_type": "code",
   "execution_count": 16,
   "id": "d1b7a198",
   "metadata": {},
   "outputs": [
    {
     "data": {
      "text/plain": [
       "<sqlite3.Cursor at 0x1f4791c2500>"
      ]
     },
     "execution_count": 16,
     "metadata": {},
     "output_type": "execute_result"
    }
   ],
   "source": [
    "cursor.execute(command)"
   ]
  },
  {
   "cell_type": "code",
   "execution_count": 17,
   "id": "22730dba",
   "metadata": {},
   "outputs": [],
   "source": [
    "command=\"\"\" INSERT INTO Employees VALUES\n",
    "(101, \"Verma\", \"Aman\", 01, \"Aman@gmail.com\", 10000, \"Manager\", \"Customer Service Representative\"),\n",
    "(102, \"Dutta\", \"Tina\", 02, \"Tina@gmail.com\", 10001, \"Manager\", \"Cashier\"),\n",
    "(103, \"Kapoor\", \"Meesha\", 03, \"Meesha@gmail.com\", 10002, \"Manager\", \"Sales Associate\"),\n",
    "(104, \"Kumar\", \"Varun\", 04, \"Varun@gmail.com\", 10003, \"Manager\", \"Cashier\"),\n",
    "(105, \"Dutt\", \"Kamal\", 05, \"Kamal@gmail.com\", 10004, \"Sr. Manager\", \"Sales Associate\"),\n",
    "(106, \"Rana\", \"Dev\", 06, \"Dev@gmail.com\", 10005, \"Manager\", \"Sr. Manager\");\"\"\""
   ]
  },
  {
   "cell_type": "code",
   "execution_count": 18,
   "id": "dd0bfb2c",
   "metadata": {},
   "outputs": [
    {
     "data": {
      "text/plain": [
       "<sqlite3.Cursor at 0x1f4791c2500>"
      ]
     },
     "execution_count": 18,
     "metadata": {},
     "output_type": "execute_result"
    }
   ],
   "source": [
    "cursor.execute(command)"
   ]
  },
  {
   "cell_type": "code",
   "execution_count": 19,
   "id": "1dd4fa61",
   "metadata": {},
   "outputs": [],
   "source": [
    "conn.commit()"
   ]
  },
  {
   "cell_type": "code",
   "execution_count": 20,
   "id": "323ae843",
   "metadata": {},
   "outputs": [
    {
     "name": "stdout",
     "output_type": "stream",
     "text": [
      "(101, 'Verma', 'Aman')\n",
      "(102, 'Dutta', 'Tina')\n",
      "(103, 'Kapoor', 'Meesha')\n",
      "(104, 'Kumar', 'Varun')\n",
      "(105, 'Dutt', 'Kamal')\n",
      "(106, 'Rana', 'Dev')\n"
     ]
    }
   ],
   "source": [
    "sqle=\"\"\"SELECT employeesNumber, lastName, firstName FROM Employees;\"\"\"\n",
    "select= cursor.execute(sqle)\n",
    "for i in select:\n",
    "    print(i)"
   ]
  },
  {
   "cell_type": "markdown",
   "id": "fcc76057",
   "metadata": {},
   "source": [
    "## 7.Write a SQL query to show all orderNumber, customerName of the person who placed the respective order."
   ]
  },
  {
   "cell_type": "code",
   "execution_count": 27,
   "id": "111905b5",
   "metadata": {},
   "outputs": [
    {
     "name": "stdout",
     "output_type": "stream",
     "text": [
      "(1, 'Rishabh Bansal')\n",
      "(2, 'Swati Juneja')\n",
      "(3, 'Arti Aggarwal')\n",
      "(4, 'Vidyut Thakur')\n",
      "(5, 'Rishabh Rathore')\n",
      "(6, 'Mahima Chaudhary')\n",
      "(7, 'Ritika Bansal')\n",
      "(8, 'Juhi Taneja')\n",
      "(9, 'Sunita Chaudhary')\n",
      "(10, 'Rudra Khurana')\n",
      "(11, 'Vaibhav Aggarwal')\n",
      "(12, 'Mitali Bansal')\n",
      "(13, 'Rishabh Rathore')\n"
     ]
    }
   ],
   "source": [
    "sqlo=\"\"\"SELECT Orders.orderNumber, Customers.customerName FROM Orders, Customers WHERE Orders.customerNumber = Customers.customerNumber;\"\"\"\n",
    "select= cursor.execute(sqlo)\n",
    "for i in select:\n",
    "    print(i)"
   ]
  },
  {
   "cell_type": "markdown",
   "id": "77921540",
   "metadata": {},
   "source": [
    "## 8. Write a SQL query to show name of all the customers in one column and salerepemployee name in another column."
   ]
  },
  {
   "cell_type": "code",
   "execution_count": 28,
   "id": "fcb3209c",
   "metadata": {},
   "outputs": [
    {
     "name": "stdout",
     "output_type": "stream",
     "text": [
      "('Rishabh Bansal', 'Aman Verma')\n",
      "('Swati Juneja', 'Tina Dutta')\n",
      "('Arti Aggarwal', 'Meesha Kapoor')\n",
      "('Vidyut Thakur', 'Varun Kumar')\n",
      "('Rishabh Rathore', 'Kamal Dutt')\n",
      "('Mahima Chaudhary', 'Dev Rana')\n"
     ]
    }
   ],
   "source": [
    "sql_command = \"\"\"SELECT  Customers.customerName,  Employees.firstName || ' ' || lastName AS FullName  FROM Customers, Employees\n",
    "WHERE Customers.saleRepEmployeeNumber = Employees.employeesNumber;\"\"\"\n",
    "select= cursor.execute(sql_command)\n",
    "for i in select:\n",
    "    print(i)"
   ]
  },
  {
   "cell_type": "markdown",
   "id": "11947052",
   "metadata": {},
   "source": [
    "## 9. Write a SQL query to show Date in one column and total payment amount of the payments made on that date from the payments table."
   ]
  },
  {
   "cell_type": "code",
   "execution_count": 29,
   "id": "6649c974",
   "metadata": {},
   "outputs": [],
   "source": [
    "command=\"\"\" CREATE TABLE Payments(customerNumber INTEGER PRIMARY KEY,\n",
    "checkNumber INTEGER NOT NULL UNIQUE,\n",
    "paymentDate DATE(10),\n",
    "amount INTEGER(15),\n",
    "FOREIGN KEY (customerNumber) REFERENCES Customers (customerNumber));\"\"\""
   ]
  },
  {
   "cell_type": "code",
   "execution_count": 30,
   "id": "12fe9ded",
   "metadata": {},
   "outputs": [],
   "source": [
    "cursor.execute(command)\n",
    "conn.commit()"
   ]
  },
  {
   "cell_type": "code",
   "execution_count": 31,
   "id": "76555989",
   "metadata": {},
   "outputs": [],
   "source": [
    "sql_command = \"\"\"INSERT INTO Payments VALUES \n",
    "(1, 200025, \"2022-10-10\", 10000),\n",
    "(2, 456854, \"2022-10-10\", 30000),\n",
    "(3, 856584, \"2022-10-11\", 55000),\n",
    "(4, 665544, \"2022-10-11\", 25000),\n",
    "(5, 100054, \"2022-10-12\", 80000);\"\"\"\n",
    "\n",
    "# execute the statement\n",
    "cursor.execute(sql_command)\n",
    "conn.commit()"
   ]
  },
  {
   "cell_type": "code",
   "execution_count": 61,
   "id": "da92b3a6",
   "metadata": {},
   "outputs": [
    {
     "name": "stdout",
     "output_type": "stream",
     "text": [
      "('2022-10-10', 10000)\n",
      "('2022-10-10', 30000)\n",
      "('2022-10-11', 55000)\n",
      "('2022-10-11', 25000)\n",
      "('2022-10-12', 80000)\n"
     ]
    }
   ],
   "source": [
    "sqlp=\"\"\" SELECT date(paymentDate), amount FROM Payments;\"\"\"\n",
    "result=cursor.execute(sqlp)\n",
    "for i in result:\n",
    "    print(i)"
   ]
  },
  {
   "cell_type": "markdown",
   "id": "ff27b45b",
   "metadata": {},
   "source": [
    "## 10. Write a SQL query to show all the products productName, MSRP, productDescription from the products table."
   ]
  },
  {
   "cell_type": "code",
   "execution_count": 32,
   "id": "5d7c6bec",
   "metadata": {},
   "outputs": [],
   "source": [
    "sql_command = \"\"\"CREATE TABLE Products(\n",
    "productCode INTEGER PRIMARY KEY,\n",
    "productName VARCHAR(20),\n",
    "productLine VARCHAR(15),\n",
    "productScale VARCHAR(10),\n",
    "productVendor VARCHAR(10),\n",
    "productDescription VARCHAR(30),\n",
    "quantityInStock VARCHAR(10),\n",
    "buyPrice INTEGER(10),\n",
    "MSRP INTEGER(10),\n",
    "FOREIGN KEY (productLine) REFERENCES productLines (ProductLine));\"\"\"\n",
    "cursor.execute(sql_command)\n",
    "\n",
    "conn.commit()\n"
   ]
  },
  {
   "cell_type": "code",
   "execution_count": 33,
   "id": "0362cb95",
   "metadata": {},
   "outputs": [],
   "source": [
    "sql_command = \"\"\"INSERT INTO Products VALUES \n",
    "(1001, \"Horlicks Health Drinks\", \"Growth + Horlicks\", \"6 out of 10 stars\", \"GlaxoSmithKline\",\"Sweet malted milk hot drink powder\", \"20 Kg\", 420, 450),\n",
    "(1002, \"Bournvita Health Drinks\", \"Bournvita Health Drink\", \"5 out of 10 stars\", \"Ayurveda Bazar Private Limited\", \"Malted chocolate drink mix\", \"15 Kg\", 400, 420),\n",
    "(1003, \"Surf Excel Detergent\", \"Washing Powder by Unilever\", \"4.0 out of 5 stars\",  \"Hindustan Unilever Limited (HUL) and Unilever Sri Lanka\", \"First detergent powder of India and Pakistan\", \"30 Kg\", 300, 320),\n",
    "(1004, \"Amul Fresh Milk\", \"Full Cream Milk\", \"4.3 out of 5 stars\", \"Gujarat Govt. Cooperative Society \", \"Hygienic liquid milk\", \"50 ltr\", 50, 50),\n",
    "(1005, \"Mother Dairy Fresh Milk\", \"Tonned Milk\", \"4.3 out of 5 stars\", \"Indian food company\", \"Wholesome and healthy\", \"50 ltr\", 48, 48),\n",
    "(1006, \"Pepsodent Toothpaste\", \"American brand of toothpaste\",\"4.5 out of 5 stars\",  \"American brand\", \"American brand of toothpaste with the minty flavor derived from sassafras\", \"1000 gms\", 95, 100);\"\"\"\n",
    "\n",
    "cursor.execute(sql_command)\n",
    "\n",
    "conn.commit()"
   ]
  },
  {
   "cell_type": "code",
   "execution_count": 34,
   "id": "053989f4",
   "metadata": {},
   "outputs": [
    {
     "name": "stdout",
     "output_type": "stream",
     "text": [
      "('Horlicks Health Drinks', 450, 'Sweet malted milk hot drink powder')\n",
      "('Bournvita Health Drinks', 420, 'Malted chocolate drink mix')\n",
      "('Surf Excel Detergent', 320, 'First detergent powder of India and Pakistan')\n",
      "('Amul Fresh Milk', 50, 'Hygienic liquid milk')\n",
      "('Mother Dairy Fresh Milk', 48, 'Wholesome and healthy')\n",
      "('Pepsodent Toothpaste', 100, 'American brand of toothpaste with the minty flavor derived from sassafras')\n"
     ]
    }
   ],
   "source": [
    "sql_command = \"\"\"SELECT productName, MSRP, productDescription FROM Products;\"\"\"\n",
    "select= cursor.execute(sql_command)\n",
    "for i in select:\n",
    "    print(i)\n"
   ]
  },
  {
   "cell_type": "markdown",
   "id": "809a821d",
   "metadata": {},
   "source": [
    "## 11. Write a SQL query to print the productName, productDescription of the most ordered product."
   ]
  },
  {
   "cell_type": "code",
   "execution_count": 35,
   "id": "0a62801d",
   "metadata": {},
   "outputs": [],
   "source": [
    "sql_command = \"\"\"CREATE TABLE OrderDetails(\n",
    "orderNumber INTEGER PRIMARY KEY,\n",
    "productCode INTEGER (10),\n",
    "quantityOrdered VARCHAR(15),\n",
    "priceEach INTEGER(15),\n",
    "orderLineNumber INTEGER(10),\n",
    "FOREIGN KEY (orderNumber) REFERENCES Orders (orderNumber),\n",
    "FOREIGN KEY (productCode) REFERENCES Products (productCode));\"\"\"\n",
    "\n",
    "cursor.execute(sql_command)\n",
    "\n",
    "conn.commit()\n"
   ]
  },
  {
   "cell_type": "code",
   "execution_count": 36,
   "id": "9f1f3fdc",
   "metadata": {},
   "outputs": [],
   "source": [
    "sql_command = \"\"\"INSERT INTO OrderDetails VALUES \n",
    "(1, 1001, \"10 Kg\", 400, \"Growth + Horlicks\"),\n",
    "(2, 1002, \"10 Kg\", 300, \"Bournvita Health Drink\"),\n",
    "(3, 1003, \"20 Kg\", 95, \"Washing Powder by Unilever\"),\n",
    "(4, 1004, \"50 ltr\", 50, \"Full Cream Milk\"),\n",
    "(5, 1005, \"50 ltr\", 48, \"Tonned Milk\"),\n",
    "(6, 1006, \"750 gms\", 95, \"American brand of toothpaste\");\"\"\"\n",
    "\n",
    "\n",
    "cursor.execute(sql_command)\n",
    "\n",
    "conn.commit()"
   ]
  },
  {
   "cell_type": "code",
   "execution_count": 37,
   "id": "e50c3e0c",
   "metadata": {},
   "outputs": [
    {
     "name": "stdout",
     "output_type": "stream",
     "text": [
      "('Horlicks Health Drinks', 'Sweet malted milk hot drink powder', 20.0)\n",
      "('Surf Excel Detergent', 'First detergent powder of India and Pakistan', 20.0)\n",
      "('Amul Fresh Milk', 'Hygienic liquid milk', 100.0)\n",
      "('Pepsodent Toothpaste', 'American brand of toothpaste with the minty flavor derived from sassafras', 750.0)\n"
     ]
    }
   ],
   "source": [
    "sql_command = \"\"\"SELECT Products.productName, Products.productDescription, SUM(OrderDetails.quantityOrdered) AS quantityOrdered\n",
    "FROM Products \n",
    "INNER JOIN OrderDetails\n",
    "ON OrderDetails.productCode = Products.productCode \n",
    "GROUP BY OrderDetails.quantityOrdered ;\"\"\"\n",
    "select= cursor.execute(sql_command)\n",
    "for i in select:\n",
    "    print(i)"
   ]
  },
  {
   "cell_type": "markdown",
   "id": "9274f3ec",
   "metadata": {},
   "source": [
    "## 12. Write a SQL query to print the city name where maximum number of orders were placed."
   ]
  },
  {
   "cell_type": "code",
   "execution_count": null,
   "id": "f906d8a3",
   "metadata": {},
   "outputs": [],
   "source": []
  },
  {
   "cell_type": "code",
   "execution_count": 38,
   "id": "7b52dd9c",
   "metadata": {},
   "outputs": [
    {
     "name": "stdout",
     "output_type": "stream",
     "text": [
      "('East Delhi', 20.0)\n",
      "('South Delhi', 20.0)\n",
      "('Moga', 100.0)\n",
      "('North Delhi', 750.0)\n"
     ]
    }
   ],
   "source": [
    "sql_command = \"\"\"SELECT Customers.city, SUM(orderDetails.quantityOrdered) AS quantityOrdered \n",
    "FROM Customers \n",
    "INNER JOIN orderDetails, Orders\n",
    "ON Customers.customerNumber = Orders.customerNumber and Orders.orderNumber = orderDetails.orderNumber\n",
    "GROUP BY orderDetails.quantityOrdered ;\"\"\"\n",
    "select= cursor.execute(sql_command)\n",
    "for i in select:\n",
    "    print(i)"
   ]
  },
  {
   "cell_type": "markdown",
   "id": "f300d3d3",
   "metadata": {},
   "source": [
    "## 13. Write a SQL query to get the name of the state having maximum number of customers."
   ]
  },
  {
   "cell_type": "code",
   "execution_count": 39,
   "id": "bbaca07e",
   "metadata": {},
   "outputs": [
    {
     "name": "stdout",
     "output_type": "stream",
     "text": [
      "('Delhi', 5)\n",
      "('Punjab', 3)\n",
      "('Karnataka', 3)\n",
      "('UP', 1)\n",
      "('Maharashtra', 1)\n"
     ]
    }
   ],
   "source": [
    "sql_command = \"\"\"SELECT state, COUNT(*) AS Max_Customer \n",
    "FROM Customers \n",
    "GROUP BY state\n",
    "ORDER BY COUNT(*) DESC;\"\"\"\n",
    "select= cursor.execute(sql_command)\n",
    "for i in select:\n",
    "    print(i)\n"
   ]
  },
  {
   "cell_type": "markdown",
   "id": "0e8bade1",
   "metadata": {},
   "source": [
    "## 14. Write a SQL query to print the employee number in one column and Full name of the employee in the second column for all the employees"
   ]
  },
  {
   "cell_type": "code",
   "execution_count": 41,
   "id": "1004ee8d",
   "metadata": {},
   "outputs": [
    {
     "name": "stdout",
     "output_type": "stream",
     "text": [
      "(101, 'Aman Verma')\n",
      "(102, 'Tina Dutta')\n",
      "(103, 'Meesha Kapoor')\n",
      "(104, 'Varun Kumar')\n",
      "(105, 'Kamal Dutt')\n",
      "(106, 'Dev Rana')\n"
     ]
    }
   ],
   "source": [
    "sql_command = \"\"\"SELECT employeesNumber, firstName || ' ' || lastName AS fullName \n",
    "FROM Employees ;\"\"\"\n",
    "select= cursor.execute(sql_command)\n",
    "for i in select:\n",
    "    print(i)\n"
   ]
  },
  {
   "cell_type": "markdown",
   "id": "08fea4ad",
   "metadata": {},
   "source": [
    "## 15. Write a SQL query to print the orderNumber, customer Name and total amount paid by the customer for that order (quantityOrdered × priceEach)."
   ]
  },
  {
   "cell_type": "code",
   "execution_count": 43,
   "id": "31adb90b",
   "metadata": {},
   "outputs": [
    {
     "name": "stdout",
     "output_type": "stream",
     "text": [
      "(1, 'Rishabh Bansal', 4000)\n",
      "(2, 'Swati Juneja', 3000)\n",
      "(3, 'Arti Aggarwal', 1900)\n",
      "(4, 'Vidyut Thakur', 2500)\n",
      "(5, 'Rishabh Rathore', 2400)\n",
      "(6, 'Mahima Chaudhary', 71250)\n"
     ]
    }
   ],
   "source": [
    "sql_command = \"\"\"SELECT OrderDetails.orderNumber, Customers.customerName, (OrderDetails.quantityOrdered  * OrderDetails.priceEach) AS Amount\n",
    "FROM OrderDetails\n",
    "INNER JOIN Customers, Orders\n",
    "ON Customers.customerNumber = Orders.customerNumber and OrderDetails.orderNumber = Orders.orderNumber;\"\"\"\n",
    "select= cursor.execute(sql_command)\n",
    "for i in select:\n",
    "    print(i)"
   ]
  },
  {
   "cell_type": "code",
   "execution_count": null,
   "id": "2810f2b7",
   "metadata": {},
   "outputs": [],
   "source": []
  }
 ],
 "metadata": {
  "kernelspec": {
   "display_name": "Python 3 (ipykernel)",
   "language": "python",
   "name": "python3"
  },
  "language_info": {
   "codemirror_mode": {
    "name": "ipython",
    "version": 3
   },
   "file_extension": ".py",
   "mimetype": "text/x-python",
   "name": "python",
   "nbconvert_exporter": "python",
   "pygments_lexer": "ipython3",
   "version": "3.9.7"
  }
 },
 "nbformat": 4,
 "nbformat_minor": 5
}
