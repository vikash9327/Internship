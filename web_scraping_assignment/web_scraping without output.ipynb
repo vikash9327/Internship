{
 "cells": [
  {
   "cell_type": "code",
   "execution_count": null,
   "id": "f2b60b78",
   "metadata": {},
   "outputs": [],
   "source": [
    "Question1. Header tag from \"wikipedia.org\""
   ]
  },
  {
   "cell_type": "code",
   "execution_count": null,
   "id": "1be3fba0",
   "metadata": {},
   "outputs": [],
   "source": [
    "!pip install bs4\n",
    "!pip install requests"
   ]
  },
  {
   "cell_type": "code",
   "execution_count": null,
   "id": "b70a3523",
   "metadata": {},
   "outputs": [],
   "source": [
    "#import libraries\n",
    "from bs4 import BeautifulSoup\n",
    "import requests\n",
    "import pandas as pd"
   ]
  },
  {
   "cell_type": "code",
   "execution_count": null,
   "id": "d5bf3cce",
   "metadata": {},
   "outputs": [],
   "source": [
    "# sending request to the web page\n",
    "page=requests.get(\"https://en.wikipedia.org/wiki/Main_Page\")\n",
    "page"
   ]
  },
  {
   "cell_type": "code",
   "execution_count": null,
   "id": "d8221b3c",
   "metadata": {},
   "outputs": [],
   "source": [
    "#page content\n",
    "soup=BeautifulSoup(page.content, \"html.parser\")"
   ]
  },
  {
   "cell_type": "code",
   "execution_count": null,
   "id": "9d7b3571",
   "metadata": {},
   "outputs": [],
   "source": [
    "print(soup.prettify())"
   ]
  },
  {
   "cell_type": "code",
   "execution_count": null,
   "id": "52f73338",
   "metadata": {},
   "outputs": [],
   "source": [
    "header_tag=soup.find_all(['h1','h2','h3','h4','h5','h6'])\n",
    "header_tag"
   ]
  },
  {
   "cell_type": "code",
   "execution_count": null,
   "id": "0d5282bb",
   "metadata": {},
   "outputs": [],
   "source": [
    "headers=[]\n",
    "for header in header_tag:\n",
    "    header=header.get_text().replace('\\n','')\n",
    "    headers.append(header)\n",
    "headers\n",
    "    "
   ]
  },
  {
   "cell_type": "code",
   "execution_count": null,
   "id": "4f0b597e",
   "metadata": {},
   "outputs": [],
   "source": [
    "data=pd.DataFrame()\n",
    "data['Header Tag']=headers\n",
    "data"
   ]
  },
  {
   "cell_type": "markdown",
   "id": "a8f45aa4",
   "metadata": {},
   "source": [
    "Q2. IMDB’s Top rated 100 movies’ data"
   ]
  },
  {
   "cell_type": "code",
   "execution_count": null,
   "id": "b97dadf6",
   "metadata": {},
   "outputs": [],
   "source": [
    "#import libraries\n",
    "from bs4 import BeautifulSoup\n",
    "import requests\n",
    "import pandas as pd"
   ]
  },
  {
   "cell_type": "code",
   "execution_count": null,
   "id": "d78526c4",
   "metadata": {},
   "outputs": [],
   "source": [
    "url=\"https://www.imdb.com/chart/top/\""
   ]
  },
  {
   "cell_type": "code",
   "execution_count": null,
   "id": "9ceb8282",
   "metadata": {},
   "outputs": [],
   "source": [
    "# sending request to the web page\n",
    "page=requests.get(url)\n",
    "page"
   ]
  },
  {
   "cell_type": "code",
   "execution_count": null,
   "id": "6f6d5845",
   "metadata": {},
   "outputs": [],
   "source": [
    "page.content"
   ]
  },
  {
   "cell_type": "code",
   "execution_count": null,
   "id": "c92927c5",
   "metadata": {},
   "outputs": [],
   "source": [
    "soup=BeautifulSoup(page.content, \"html.parser\")\n",
    "print(soup.prettify())"
   ]
  },
  {
   "cell_type": "code",
   "execution_count": null,
   "id": "4201aced",
   "metadata": {},
   "outputs": [],
   "source": [
    "top_movies=soup.find_all('td', class_='titleColumn') \n",
    "top_movies"
   ]
  },
  {
   "cell_type": "code",
   "execution_count": null,
   "id": "1790dcad",
   "metadata": {},
   "outputs": [],
   "source": [
    "movies=[]\n",
    "for movie in top_movies:\n",
    "    movie=movie.get_text().replace('\\n',\"\")\n",
    "    movie=movie.strip(\" \")\n",
    "    movies.append(movie)\n",
    "movies    "
   ]
  },
  {
   "cell_type": "code",
   "execution_count": null,
   "id": "b05bd553",
   "metadata": {},
   "outputs": [],
   "source": [
    "movies_ratings=soup.find_all('td', class_='ratingColumn imdbRating')\n",
    "movies_ratings"
   ]
  },
  {
   "cell_type": "code",
   "execution_count": null,
   "id": "675a4e1c",
   "metadata": {},
   "outputs": [],
   "source": [
    "ratings=[]\n",
    "for rating in movies_ratings:\n",
    "    rating=rating.get_text().replace('\\n','')\n",
    "    ratings.append(rating)\n",
    "ratings"
   ]
  },
  {
   "cell_type": "code",
   "execution_count": null,
   "id": "1fda7ee9",
   "metadata": {},
   "outputs": [],
   "source": [
    "data=pd.DataFrame()\n",
    "data['Movies Name & year of release']= movies\n",
    "data['Ratings']= ratings\n",
    "data.head(100)"
   ]
  },
  {
   "cell_type": "code",
   "execution_count": null,
   "id": "429ca10a",
   "metadata": {},
   "outputs": [],
   "source": [
    "df=data.head(100)\n",
    "df"
   ]
  },
  {
   "cell_type": "markdown",
   "id": "b4e7d81d",
   "metadata": {},
   "source": [
    "q3.-IMDB’s_Top_rated_100_Indian_movies’"
   ]
  },
  {
   "cell_type": "code",
   "execution_count": null,
   "id": "cd22f949",
   "metadata": {},
   "outputs": [],
   "source": [
    "#import libraries\n",
    "from bs4 import BeautifulSoup\n",
    "import requests\n",
    "import pandas as pd"
   ]
  },
  {
   "cell_type": "code",
   "execution_count": null,
   "id": "474a455b",
   "metadata": {},
   "outputs": [],
   "source": [
    "url=\"https://www.imdb.com/india/top-rated-indian-movies/\""
   ]
  },
  {
   "cell_type": "code",
   "execution_count": null,
   "id": "9df66b6c",
   "metadata": {},
   "outputs": [],
   "source": [
    "page=requests.get(url)\n",
    "page"
   ]
  },
  {
   "cell_type": "code",
   "execution_count": null,
   "id": "e34286c1",
   "metadata": {},
   "outputs": [],
   "source": [
    "page.content"
   ]
  },
  {
   "cell_type": "code",
   "execution_count": null,
   "id": "f32f3f67",
   "metadata": {},
   "outputs": [],
   "source": [
    "soup=BeautifulSoup(page.content, \"html.parser\")\n",
    "print(soup.prettify())"
   ]
  },
  {
   "cell_type": "code",
   "execution_count": null,
   "id": "810b982d",
   "metadata": {},
   "outputs": [],
   "source": [
    "top_ind_movies=soup.find_all('td', class_='titleColumn') \n",
    "top_ind_movies"
   ]
  },
  {
   "cell_type": "code",
   "execution_count": null,
   "id": "f2a0ae65",
   "metadata": {},
   "outputs": [],
   "source": [
    "movies=[]\n",
    "for movie in top_ind_movies:\n",
    "    movie=movie.get_text().replace('\\n',\"\")\n",
    "    movie=movie.strip(\" \")\n",
    "    movies.append(movie)\n",
    "movies    "
   ]
  },
  {
   "cell_type": "code",
   "execution_count": null,
   "id": "3d8c3b0a",
   "metadata": {},
   "outputs": [],
   "source": [
    "movies_ratings=soup.find_all('td', class_='ratingColumn imdbRating')\n",
    "movies_ratings"
   ]
  },
  {
   "cell_type": "code",
   "execution_count": null,
   "id": "f486122a",
   "metadata": {},
   "outputs": [],
   "source": [
    "ratings=[]\n",
    "for rating in movies_ratings:\n",
    "    rating=rating.get_text().replace('\\n','')\n",
    "    ratings.append(rating)\n",
    "ratings"
   ]
  },
  {
   "cell_type": "code",
   "execution_count": null,
   "id": "678b7750",
   "metadata": {},
   "outputs": [],
   "source": [
    "data=pd.DataFrame()\n",
    "data['Movies Name & year of release']= movies\n",
    "data['Ratings']= ratings\n",
    "data.head(100)"
   ]
  },
  {
   "cell_type": "code",
   "execution_count": null,
   "id": "9281b20c",
   "metadata": {},
   "outputs": [],
   "source": [
    "df=data.head(100)\n",
    "df"
   ]
  },
  {
   "cell_type": "markdown",
   "id": "01554689",
   "metadata": {},
   "source": [
    "Q4. former presidents of India"
   ]
  },
  {
   "cell_type": "code",
   "execution_count": null,
   "id": "f4a7a618",
   "metadata": {},
   "outputs": [],
   "source": [
    "#import libraries\n",
    "from bs4 import BeautifulSoup\n",
    "import requests\n",
    "import pandas as pd\n",
    "import numpy as np"
   ]
  },
  {
   "cell_type": "code",
   "execution_count": null,
   "id": "e9ae5ac2",
   "metadata": {},
   "outputs": [],
   "source": [
    "url=\"https://presidentofindia.nic.in/former-presidents.htm\""
   ]
  },
  {
   "cell_type": "code",
   "execution_count": null,
   "id": "b380e3ff",
   "metadata": {},
   "outputs": [],
   "source": [
    "page=requests.get(url)\n",
    "page"
   ]
  },
  {
   "cell_type": "code",
   "execution_count": null,
   "id": "1de5aa81",
   "metadata": {},
   "outputs": [],
   "source": [
    "page.content"
   ]
  },
  {
   "cell_type": "code",
   "execution_count": null,
   "id": "a62c15c6",
   "metadata": {},
   "outputs": [],
   "source": [
    "soup=BeautifulSoup(page.content, \"html.parser\")\n",
    "print(soup.prettify())"
   ]
  },
  {
   "cell_type": "code",
   "execution_count": null,
   "id": "18791a15",
   "metadata": {},
   "outputs": [],
   "source": [
    "former_president=soup.find_all('h3')\n",
    "former_president"
   ]
  },
  {
   "cell_type": "code",
   "execution_count": null,
   "id": "a6f427f4",
   "metadata": {},
   "outputs": [],
   "source": [
    "presidents_name=[]\n",
    "for president in former_president:\n",
    "    president=president.get_text().split('(')[0]\n",
    "    president=president.strip(\" \")\n",
    "    presidents_name.append(president)\n",
    "presidents_name"
   ]
  },
  {
   "cell_type": "code",
   "execution_count": null,
   "id": "907fea40",
   "metadata": {},
   "outputs": [],
   "source": [
    "terms_office=soup.find_all('p')\n",
    "terms_office=terms_office[:18]\n",
    "terms_office"
   ]
  },
  {
   "cell_type": "code",
   "execution_count": null,
   "id": "14819d4f",
   "metadata": {},
   "outputs": [],
   "source": [
    "term_of_offices=[]\n",
    "for terms in terms_office:\n",
    "    terms= terms.get_text().replace('\\n','')\n",
    "    terms=terms.split()\n",
    "   # terms= terms.strip(url)\n",
    "    term_of_offices.append( terms)\n",
    "    \n",
    "    \n",
    "\n",
    "term_of_offices\n",
    "del term_of_offices[1:8:2]\n",
    "print(term_of_offices)"
   ]
  },
  {
   "cell_type": "code",
   "execution_count": null,
   "id": "55227077",
   "metadata": {},
   "outputs": [],
   "source": [
    "data=pd.DataFrame()\n",
    "data['Name of former president']=pd.Series(presidents_name)\n",
    "data['Term of office']= pd.Series(term_of_offices)\n",
    "data\n"
   ]
  },
  {
   "cell_type": "code",
   "execution_count": null,
   "id": "7fd09db6",
   "metadata": {},
   "outputs": [],
   "source": [
    "data=data.style.hide_index()\n",
    "data"
   ]
  },
  {
   "cell_type": "markdown",
   "id": "e7596dff",
   "metadata": {},
   "source": [
    "Q5-a). Top 10 ODI teams in men’s"
   ]
  },
  {
   "cell_type": "code",
   "execution_count": null,
   "id": "c23c45fa",
   "metadata": {},
   "outputs": [],
   "source": [
    "#import libraries\n",
    "from bs4 import BeautifulSoup\n",
    "import requests\n",
    "import pandas as pd\n",
    "import numpy as np"
   ]
  },
  {
   "cell_type": "code",
   "execution_count": null,
   "id": "9e7fa155",
   "metadata": {},
   "outputs": [],
   "source": [
    "url='https://www.icc-cricket.com/rankings/mens/team-rankings/odi'"
   ]
  },
  {
   "cell_type": "code",
   "execution_count": null,
   "id": "a6c57bb4",
   "metadata": {},
   "outputs": [],
   "source": [
    "page=requests.get(url)\n",
    "page"
   ]
  },
  {
   "cell_type": "code",
   "execution_count": null,
   "id": "4a405291",
   "metadata": {},
   "outputs": [],
   "source": [
    "page.content"
   ]
  },
  {
   "cell_type": "code",
   "execution_count": null,
   "id": "f56eea78",
   "metadata": {},
   "outputs": [],
   "source": [
    "soup=BeautifulSoup(page.content, \"html.parser\")\n",
    "print(soup.prettify())"
   ]
  },
  {
   "cell_type": "code",
   "execution_count": null,
   "id": "5d67b62d",
   "metadata": {},
   "outputs": [],
   "source": [
    "rank=soup.find_all(attrs={\"class\":[\"rankings-block__banner--pos\",\"table-body__cell table-body__cell--position u-text-right\"]})\n",
    "rank\n"
   ]
  },
  {
   "cell_type": "code",
   "execution_count": null,
   "id": "28f9870c",
   "metadata": {},
   "outputs": [],
   "source": [
    "ranks=[]\n",
    "for ranking in rank:\n",
    "    ranking=ranking.get_text().replace('\\n',\"\")\n",
    "    ranks.append(ranking)\n",
    "ranks\n"
   ]
  },
  {
   "cell_type": "code",
   "execution_count": null,
   "id": "11c30065",
   "metadata": {},
   "outputs": [],
   "source": [
    "teams_name=soup.find_all('span',class_='u-hide-phablet')\n",
    "teams_name"
   ]
  },
  {
   "cell_type": "code",
   "execution_count": null,
   "id": "61a67034",
   "metadata": {},
   "outputs": [],
   "source": [
    "team=[]\n",
    "for name in teams_name:\n",
    "    name=name.get_text().replace('\\n',\"\")\n",
    "    team.append(name)\n",
    "team"
   ]
  },
  {
   "cell_type": "code",
   "execution_count": null,
   "id": "635061aa",
   "metadata": {},
   "outputs": [],
   "source": [
    "matches_played=soup.find_all(attrs={\"class\":[\"rankings-block__banner--matches\",\"table-body__cell u-center-text\"]})\n",
    "matches_played"
   ]
  },
  {
   "cell_type": "code",
   "execution_count": null,
   "id": "b923547f",
   "metadata": {},
   "outputs": [],
   "source": [
    "matches=[]\n",
    "for match in matches_played:\n",
    "    match=match.get_text().replace('\\n',\"\")\n",
    "    match=match.split()\n",
    "    matches.append(match)\n",
    "matches\n",
    "del matches[2:41:2]\n",
    "matches"
   ]
  },
  {
   "cell_type": "code",
   "execution_count": null,
   "id": "df8331c0",
   "metadata": {},
   "outputs": [],
   "source": [
    "points=soup.find_all(attrs={\"class\":[\"rankings-block__banner--matches\",\"table-body__cell u-center-text\"]})\n",
    "points"
   ]
  },
  {
   "cell_type": "code",
   "execution_count": null,
   "id": "c57393af",
   "metadata": {},
   "outputs": [],
   "source": [
    "point=[]\n",
    "for pt in points:\n",
    "    pt=pt.get_text().replace('\\n',\"\")\n",
    "    pt=pt.split()\n",
    "    point.append(pt)\n",
    "point=point[2:41:2]\n",
    "point"
   ]
  },
  {
   "cell_type": "code",
   "execution_count": null,
   "id": "4c435df9",
   "metadata": {},
   "outputs": [],
   "source": [
    "ratings=soup.find_all(attrs={\"class\":[\"rankings-block__banner--rating u-text-right\",\"table-body__cell u-text-right rating\"]})\n",
    "ratings"
   ]
  },
  {
   "cell_type": "code",
   "execution_count": null,
   "id": "ff33b3e0",
   "metadata": {},
   "outputs": [],
   "source": [
    "rating=[]\n",
    "for rt in ratings:\n",
    "    rt=rt.get_text().replace('\\n',\"\")\n",
    "    rt=rt.split()\n",
    "    rating.append(rt)\n",
    "rating"
   ]
  },
  {
   "cell_type": "code",
   "execution_count": null,
   "id": "9942740b",
   "metadata": {},
   "outputs": [],
   "source": [
    "data=pd.DataFrame()\n",
    "data['Rank']=pd.Series(ranks)\n",
    "data['Team Name']= pd.Series(team)\n",
    "data['Matches']=pd.Series(matches)\n",
    "data['Points']=pd.Series(point)\n",
    "data['Ratings']=pd.Series(rating)\n",
    "data"
   ]
  },
  {
   "cell_type": "code",
   "execution_count": null,
   "id": "b897d6d8",
   "metadata": {},
   "outputs": [],
   "source": [
    "df=data.head(10)\n",
    "df"
   ]
  },
  {
   "cell_type": "code",
   "execution_count": null,
   "id": "67917694",
   "metadata": {},
   "outputs": [],
   "source": [
    "df=df.style.hide_index()\n",
    "df"
   ]
  },
  {
   "cell_type": "markdown",
   "id": "b4c80462",
   "metadata": {},
   "source": [
    "Q5-b)  Top 10 ODI Batsmen"
   ]
  },
  {
   "cell_type": "code",
   "execution_count": null,
   "id": "7f583af2",
   "metadata": {},
   "outputs": [],
   "source": [
    "#import libraries\n",
    "from bs4 import BeautifulSoup\n",
    "import requests\n",
    "import pandas as pd\n",
    "import numpy as np"
   ]
  },
  {
   "cell_type": "code",
   "execution_count": null,
   "id": "6e3690f7",
   "metadata": {},
   "outputs": [],
   "source": [
    "url='https://www.icc-cricket.com/rankings/mens/player-rankings/odi'"
   ]
  },
  {
   "cell_type": "code",
   "execution_count": null,
   "id": "8cb4d9d9",
   "metadata": {},
   "outputs": [],
   "source": [
    "page=requests.get(url)\n",
    "page"
   ]
  },
  {
   "cell_type": "code",
   "execution_count": null,
   "id": "c3a1085f",
   "metadata": {},
   "outputs": [],
   "source": [
    "soup=BeautifulSoup(page.content, \"html.parser\")\n",
    "print(soup.prettify())"
   ]
  },
  {
   "cell_type": "code",
   "execution_count": null,
   "id": "a4d31ec1",
   "metadata": {},
   "outputs": [],
   "source": [
    "rank=soup.find_all(\"span\", attrs={\"class\":[\"rankings-block__pos-number\",\"rankings-table__pos-number\"]})\n",
    "rank"
   ]
  },
  {
   "cell_type": "code",
   "execution_count": null,
   "id": "e5304fd9",
   "metadata": {},
   "outputs": [],
   "source": [
    "ranks=[]\n",
    "for ranking in rank:\n",
    "    ranking=ranking.get_text().replace('\\n',\"\")\n",
    "    ranking=ranking.strip()\n",
    "    ranks.append(ranking)\n",
    "ranks=ranks[0:10]\n",
    "ranks"
   ]
  },
  {
   "cell_type": "code",
   "execution_count": null,
   "id": "952cbf12",
   "metadata": {},
   "outputs": [],
   "source": [
    "player_name=soup.find_all('td', class_='table-body__cell name')\n",
    "player_name.insert(0,(soup.find('div',class_='rankings-block__banner--name')))\n",
    "player_name"
   ]
  },
  {
   "cell_type": "code",
   "execution_count": null,
   "id": "71d1f619",
   "metadata": {},
   "outputs": [],
   "source": [
    "name=[]\n",
    "for player in player_name:\n",
    "    player=player.get_text().replace('\\n',\"\")\n",
    "    player=player.strip()\n",
    "    name.append(player)\n",
    "name=name[0:10]\n",
    "name"
   ]
  },
  {
   "cell_type": "code",
   "execution_count": null,
   "id": "9b0c0ba7",
   "metadata": {},
   "outputs": [],
   "source": [
    "team=soup.find_all(attrs={\"class\":[\"table-body__logo-text\"]})\n",
    "team=team[2:3]\n",
    "team"
   ]
  },
  {
   "cell_type": "code",
   "execution_count": null,
   "id": "ea7f1383",
   "metadata": {},
   "outputs": [],
   "source": [
    "top=[]\n",
    "for m in team:\n",
    "    m=m.get_text().replace('\\n',\"\")\n",
    "    top.append(m)\n",
    "top"
   ]
  },
  {
   "cell_type": "code",
   "execution_count": null,
   "id": "4436df22",
   "metadata": {},
   "outputs": [],
   "source": [
    "team1=soup.find_all(attrs={\"class\":[\"table-body__logo-text\"]})\n",
    "team1=team1[0:9]\n",
    "team1"
   ]
  },
  {
   "cell_type": "code",
   "execution_count": null,
   "id": "7d767c57",
   "metadata": {},
   "outputs": [],
   "source": [
    "teams=[]\n",
    "for tm in team1:\n",
    "    tm=tm.get_text().replace('\\n',\"\")\n",
    "    teams.append(tm)\n",
    "teams"
   ]
  },
  {
   "cell_type": "code",
   "execution_count": null,
   "id": "e3952809",
   "metadata": {},
   "outputs": [],
   "source": [
    "team_name=top+teams\n",
    "team_name\n"
   ]
  },
  {
   "cell_type": "code",
   "execution_count": null,
   "id": "d9642fd4",
   "metadata": {},
   "outputs": [],
   "source": [
    "ratings=soup.find_all(attrs={\"class\":[\"rankings-block__banner--rating\",\"table-body__cell u-text-right rating\"]})[0:10]\n",
    "ratings"
   ]
  },
  {
   "cell_type": "code",
   "execution_count": null,
   "id": "6488e47d",
   "metadata": {},
   "outputs": [],
   "source": [
    "rating=[]\n",
    "for rate in ratings:\n",
    "    rate=rate.get_text().replace('\\n',\"\")\n",
    "    rate=rate.strip()\n",
    "    rating.append(rate)\n",
    "rating"
   ]
  },
  {
   "cell_type": "code",
   "execution_count": null,
   "id": "9ef02a73",
   "metadata": {},
   "outputs": [],
   "source": [
    "df = pd.DataFrame({'Ranks':ranks,'Name':name,'Team':team_name,'Rating':rating})\n",
    "df"
   ]
  },
  {
   "cell_type": "code",
   "execution_count": null,
   "id": "b0352a6e",
   "metadata": {},
   "outputs": [],
   "source": [
    "df=df.style.hide_index()\n",
    "df"
   ]
  },
  {
   "cell_type": "markdown",
   "id": "2f8e09a4",
   "metadata": {},
   "source": [
    "Q5-c) Top 10 ODI bowlers"
   ]
  },
  {
   "cell_type": "code",
   "execution_count": null,
   "id": "066bdc6d",
   "metadata": {},
   "outputs": [],
   "source": [
    "import pandas as pd \n",
    "import requests\n",
    "from bs4 import BeautifulSoup\n",
    "page = requests.get('https://www.icc-cricket.com/rankings/mens/player-rankings/odi')\n",
    "soup = BeautifulSoup(page.content,'html.parser')"
   ]
  },
  {
   "cell_type": "code",
   "execution_count": null,
   "id": "812c28a3",
   "metadata": {},
   "outputs": [],
   "source": [
    "bowl=soup.select(\"tr.table-body a\")\n",
    "bowl=bowl[9:18]\n",
    "bowl"
   ]
  },
  {
   "cell_type": "code",
   "execution_count": null,
   "id": "45a16054",
   "metadata": {},
   "outputs": [],
   "source": [
    "top=soup.find_all(class_=\"rankings-block__banner--name\")[1]\n",
    "top"
   ]
  },
  {
   "cell_type": "code",
   "execution_count": null,
   "id": "58b2486d",
   "metadata": {},
   "outputs": [],
   "source": [
    "bowl.insert(0,top)\n",
    "bowl"
   ]
  },
  {
   "cell_type": "code",
   "execution_count": null,
   "id": "bc87340b",
   "metadata": {},
   "outputs": [],
   "source": [
    "name=[]\n",
    "for nm in bowl:\n",
    "    nm=nm.get_text().replace('\\n',\"\")\n",
    "    nm=nm.strip()\n",
    "    name.append(nm)\n",
    "name"
   ]
  },
  {
   "cell_type": "code",
   "execution_count": null,
   "id": "503041ab",
   "metadata": {},
   "outputs": [],
   "source": [
    "team=soup.select(\"span.table-body__logo-text\")\n",
    "team=team[9:18]\n",
    "team"
   ]
  },
  {
   "cell_type": "code",
   "execution_count": null,
   "id": "ba0e75ab",
   "metadata": {},
   "outputs": [],
   "source": [
    "teams=[]\n",
    "\n",
    "for tm in team:\n",
    "    tm=tm.get_text().replace('\\n',\" \")\n",
    "    teams.append(tm)\n",
    "teams"
   ]
  },
  {
   "cell_type": "code",
   "execution_count": null,
   "id": "6d8beae0",
   "metadata": {},
   "outputs": [],
   "source": [
    "top2=soup.select(\"span.table-body__logo-text\")[16:17]\n",
    "top2"
   ]
  },
  {
   "cell_type": "code",
   "execution_count": null,
   "id": "582abd15",
   "metadata": {},
   "outputs": [],
   "source": [
    "team1=[]\n",
    "\n",
    "for tm in top2:\n",
    "    tm=tm.get_text().replace('\\n',\" \")\n",
    "    team1.append(tm)\n",
    "team1"
   ]
  },
  {
   "cell_type": "code",
   "execution_count": null,
   "id": "dd90e3b1",
   "metadata": {},
   "outputs": [],
   "source": [
    "rate=soup.find_all(\"td\", class_=\"table-body__cell u-text-right rating\")[9:18]\n",
    "rate"
   ]
  },
  {
   "cell_type": "code",
   "execution_count": null,
   "id": "be6b6ac0",
   "metadata": {},
   "outputs": [],
   "source": [
    "top3=soup.select(\"div.rankings-block__banner--rating\")[1]\n",
    "top3"
   ]
  },
  {
   "cell_type": "code",
   "execution_count": null,
   "id": "076d8c5c",
   "metadata": {},
   "outputs": [],
   "source": [
    "rate.insert(0,top3)\n",
    "rate"
   ]
  },
  {
   "cell_type": "code",
   "execution_count": null,
   "id": "61147bba",
   "metadata": {},
   "outputs": [],
   "source": [
    "ratings=[]\n",
    "for rt in rate:\n",
    "    rt=rt.get_text().replace('\\n',\"\")\n",
    "    rt=rt.strip()\n",
    "    ratings.append(rt)\n",
    "ratings"
   ]
  },
  {
   "cell_type": "code",
   "execution_count": null,
   "id": "3c73ab82",
   "metadata": {},
   "outputs": [],
   "source": [
    "df=pd.DataFrame({\"Players\":name,\"team\":team_name,\"rating\":ratings})\n",
    "df=df.style.hide_index()\n",
    "df"
   ]
  },
  {
   "cell_type": "markdown",
   "id": "2f18a1fa",
   "metadata": {},
   "source": [
    "Q6-a) Top 10 ODI teams in women’s cricket"
   ]
  },
  {
   "cell_type": "code",
   "execution_count": null,
   "id": "e6c2142a",
   "metadata": {},
   "outputs": [],
   "source": [
    "#import libraries\n",
    "from bs4 import BeautifulSoup\n",
    "import requests\n",
    "import pandas as pd\n",
    "import numpy as np"
   ]
  },
  {
   "cell_type": "code",
   "execution_count": null,
   "id": "3d647c18",
   "metadata": {},
   "outputs": [],
   "source": [
    "url='https://www.icc-cricket.com/rankings/womens/team-rankings/odi'"
   ]
  },
  {
   "cell_type": "code",
   "execution_count": null,
   "id": "ac9f64bf",
   "metadata": {},
   "outputs": [],
   "source": [
    "page=requests.get(url)\n",
    "page"
   ]
  },
  {
   "cell_type": "code",
   "execution_count": null,
   "id": "3d6e6169",
   "metadata": {},
   "outputs": [],
   "source": [
    "page.content"
   ]
  },
  {
   "cell_type": "code",
   "execution_count": null,
   "id": "b9691cb2",
   "metadata": {},
   "outputs": [],
   "source": [
    "soup=BeautifulSoup(page.content, \"html.parser\")\n",
    "print(soup.prettify())"
   ]
  },
  {
   "cell_type": "code",
   "execution_count": null,
   "id": "b44b6b3d",
   "metadata": {},
   "outputs": [],
   "source": [
    "teams_name=soup.find_all('span',class_='u-hide-phablet')[0:10]\n",
    "teams_name"
   ]
  },
  {
   "cell_type": "code",
   "execution_count": null,
   "id": "1b955ade",
   "metadata": {},
   "outputs": [],
   "source": [
    "team=[]\n",
    "for name in teams_name:\n",
    "    name=name.get_text().replace('\\n',\"\")\n",
    "    name=name.strip()\n",
    "    team.append(name)\n",
    "team"
   ]
  },
  {
   "cell_type": "code",
   "execution_count": null,
   "id": "952e1767",
   "metadata": {},
   "outputs": [],
   "source": [
    "matches_played=soup.find_all(attrs={\"class\":[\"rankings-block__banner--matches\",\"table-body__cell u-center-text\"]})\n",
    "matches_played"
   ]
  },
  {
   "cell_type": "code",
   "execution_count": null,
   "id": "bd10a9e6",
   "metadata": {},
   "outputs": [],
   "source": [
    "matches=[]\n",
    "for match in matches_played:\n",
    "    match=match.get_text().replace('\\n',\"\")\n",
    "    match=match.strip()\n",
    "    matches.append(match)\n",
    "matches\n",
    "\n",
    "del matches[2:21:2]\n",
    "matches=matches[0:10]\n",
    "matches"
   ]
  },
  {
   "cell_type": "code",
   "execution_count": null,
   "id": "64ecfbdd",
   "metadata": {},
   "outputs": [],
   "source": [
    "points=soup.find_all(attrs={\"class\":[\"rankings-block__banner--points\",\"table-body__cell u-center-text\"]})\n",
    "points"
   ]
  },
  {
   "cell_type": "code",
   "execution_count": null,
   "id": "c513a2a7",
   "metadata": {},
   "outputs": [],
   "source": [
    "point=[]\n",
    "for pt in points:\n",
    "    pt=pt.get_text().replace('\\n',\"\")\n",
    "    pt=pt.strip()\n",
    "    point.append(pt)\n",
    "point=point[0:21:2]\n",
    "point=point[0:10]\n",
    "point"
   ]
  },
  {
   "cell_type": "code",
   "execution_count": null,
   "id": "91a7255b",
   "metadata": {},
   "outputs": [],
   "source": [
    "ratings=soup.find_all(attrs={\"class\":[\"rankings-block__banner--rating u-text-right\",\"table-body__cell u-text-right rating\"]})\n",
    "ratings"
   ]
  },
  {
   "cell_type": "code",
   "execution_count": null,
   "id": "baab470e",
   "metadata": {},
   "outputs": [],
   "source": [
    "rating=[]\n",
    "for rt in ratings:\n",
    "    rt=rt.get_text().replace('\\n',\"\")\n",
    "    rt=rt.strip()\n",
    "    rating.append(rt)\n",
    "rating=rating[0:10]\n",
    "rating"
   ]
  },
  {
   "cell_type": "code",
   "execution_count": null,
   "id": "6d17b135",
   "metadata": {},
   "outputs": [],
   "source": [
    "df=pd.DataFrame({\"Team\":team,\"Matches\":matches,\"point\":point,\"rating\":rating})\n",
    "df"
   ]
  },
  {
   "cell_type": "markdown",
   "id": "c0b378fa",
   "metadata": {},
   "source": [
    "Q6-b) Top 10 women’s ODI Batting players"
   ]
  },
  {
   "cell_type": "code",
   "execution_count": null,
   "id": "e5fa4927",
   "metadata": {},
   "outputs": [],
   "source": [
    "#import libraries\n",
    "from bs4 import BeautifulSoup\n",
    "import requests\n",
    "import pandas as pd\n",
    "import numpy as np"
   ]
  },
  {
   "cell_type": "code",
   "execution_count": null,
   "id": "3baec650",
   "metadata": {},
   "outputs": [],
   "source": [
    "url='https://www.icc-cricket.com/rankings/womens/player-rankings/odi'\n"
   ]
  },
  {
   "cell_type": "code",
   "execution_count": null,
   "id": "71f7c293",
   "metadata": {},
   "outputs": [],
   "source": [
    "page=requests.get(url)\n",
    "page"
   ]
  },
  {
   "cell_type": "code",
   "execution_count": null,
   "id": "ffe05add",
   "metadata": {},
   "outputs": [],
   "source": [
    "page.content"
   ]
  },
  {
   "cell_type": "code",
   "execution_count": null,
   "id": "99f33632",
   "metadata": {},
   "outputs": [],
   "source": [
    "soup=BeautifulSoup(page.content, \"html.parser\")\n",
    "print(soup.prettify())"
   ]
  },
  {
   "cell_type": "code",
   "execution_count": null,
   "id": "5fcb57ed",
   "metadata": {},
   "outputs": [],
   "source": [
    "player_name=soup.find_all('td', class_='table-body__cell name')\n",
    "player_name.insert(0,(soup.find('div',class_='rankings-block__banner--name')))\n",
    "player_name=player_name[:10]\n",
    "player_name"
   ]
  },
  {
   "cell_type": "code",
   "execution_count": null,
   "id": "eb1151db",
   "metadata": {},
   "outputs": [],
   "source": [
    "name=[]\n",
    "for player in player_name:\n",
    "    player=player.get_text().replace('\\n',\"\")\n",
    "    player=player.strip()\n",
    "    name.append(player)\n",
    "name"
   ]
  },
  {
   "cell_type": "code",
   "execution_count": null,
   "id": "7f03b648",
   "metadata": {},
   "outputs": [],
   "source": [
    "team=soup.find_all('span', class_='table-body__logo-text')\n",
    "team.insert(0,(soup.find('span',class_='table-body__logo-text')))\n",
    "team=team[:10]\n",
    "team"
   ]
  },
  {
   "cell_type": "code",
   "execution_count": null,
   "id": "ec543f4d",
   "metadata": {},
   "outputs": [],
   "source": [
    "teams=[]\n",
    "for tm in team:\n",
    "    tm=tm.get_text().replace('\\n',\"\")\n",
    "    teams.append(tm)\n",
    "teams"
   ]
  },
  {
   "cell_type": "code",
   "execution_count": null,
   "id": "f8450110",
   "metadata": {},
   "outputs": [],
   "source": [
    "ratings=soup.find_all(attrs={\"class\":[\"rankings-block__banner--rating\",\"table-body__cell u-text-right rating\"]})[0:10]\n",
    "ratings"
   ]
  },
  {
   "cell_type": "code",
   "execution_count": null,
   "id": "45f78300",
   "metadata": {},
   "outputs": [],
   "source": [
    "rating=[]\n",
    "for rate in ratings:\n",
    "    rate=rate.get_text().replace('\\n',\"\")\n",
    "    rate=rate.strip()\n",
    "    rating.append(rate)\n",
    "rating"
   ]
  },
  {
   "cell_type": "code",
   "execution_count": null,
   "id": "7ad4a4c5",
   "metadata": {},
   "outputs": [],
   "source": [
    "df = pd.DataFrame({'Name':name,'Team':teams,'Rating':rating})\n",
    "df=df.style.hide_index()\n",
    "df"
   ]
  },
  {
   "cell_type": "markdown",
   "id": "8cbf427e",
   "metadata": {},
   "source": [
    "Q6-c) Top 10 women’s ODI all-rounder"
   ]
  },
  {
   "cell_type": "code",
   "execution_count": null,
   "id": "06b5b951",
   "metadata": {},
   "outputs": [],
   "source": [
    "#import libraries\n",
    "from bs4 import BeautifulSoup\n",
    "import requests\n",
    "import pandas as pd\n",
    "import numpy as np"
   ]
  },
  {
   "cell_type": "code",
   "execution_count": null,
   "id": "5e2a3c16",
   "metadata": {},
   "outputs": [],
   "source": [
    "url='https://www.icc-cricket.com/rankings/womens/player-rankings/odi'"
   ]
  },
  {
   "cell_type": "code",
   "execution_count": null,
   "id": "02c2fc1a",
   "metadata": {},
   "outputs": [],
   "source": [
    "page=requests.get(url)\n",
    "page"
   ]
  },
  {
   "cell_type": "code",
   "execution_count": null,
   "id": "a5925b7b",
   "metadata": {},
   "outputs": [],
   "source": [
    "page.content"
   ]
  },
  {
   "cell_type": "code",
   "execution_count": null,
   "id": "d821764b",
   "metadata": {},
   "outputs": [],
   "source": [
    "page.content"
   ]
  },
  {
   "cell_type": "code",
   "execution_count": null,
   "id": "68b0118a",
   "metadata": {},
   "outputs": [],
   "source": [
    "soup=BeautifulSoup(page.content, \"html.parser\")\n",
    "print(soup.prettify())"
   ]
  },
  {
   "cell_type": "code",
   "execution_count": null,
   "id": "bb1a17d1",
   "metadata": {},
   "outputs": [],
   "source": [
    "player_name=soup.find_all('td', class_='table-body__cell name')\n",
    "player_name=player_name[18:]\n",
    "player_name"
   ]
  },
  {
   "cell_type": "code",
   "execution_count": null,
   "id": "e2b60ae0",
   "metadata": {},
   "outputs": [],
   "source": [
    "name=[]\n",
    "for player in player_name:\n",
    "    player=player.get_text().replace('\\n',\"\")\n",
    "    player=player.strip()\n",
    "    name.append(player)\n",
    "name"
   ]
  },
  {
   "cell_type": "code",
   "execution_count": null,
   "id": "d60afcf4",
   "metadata": {},
   "outputs": [],
   "source": [
    "player_name1=soup.find_all('div',class_='rankings-block__banner--name')\n",
    "player_name1=player_name1[2:]\n",
    "player_name1"
   ]
  },
  {
   "cell_type": "code",
   "execution_count": null,
   "id": "3661dbe8",
   "metadata": {},
   "outputs": [],
   "source": [
    "name1=[]\n",
    "for player in player_name1:\n",
    "    player=player.get_text().replace('\\n',\"\")\n",
    "    player=player.strip()\n",
    "    name1.append(player)\n",
    "name1"
   ]
  },
  {
   "cell_type": "code",
   "execution_count": null,
   "id": "18589302",
   "metadata": {},
   "outputs": [],
   "source": [
    "name_all=name1+name\n",
    "name_all"
   ]
  },
  {
   "cell_type": "code",
   "execution_count": null,
   "id": "3a105af4",
   "metadata": {},
   "outputs": [],
   "source": [
    "team=soup.find_all('span', class_='table-body__logo-text')[18:]\n",
    "team"
   ]
  },
  {
   "cell_type": "code",
   "execution_count": null,
   "id": "201c871b",
   "metadata": {},
   "outputs": [],
   "source": [
    "team1=[]\n",
    "\n",
    "for tm in team:\n",
    "    tm=tm.get_text().replace('\\n',\" \")\n",
    "    team1.append(tm)\n",
    "team1"
   ]
  },
  {
   "cell_type": "code",
   "execution_count": null,
   "id": "8b86d196",
   "metadata": {},
   "outputs": [],
   "source": [
    "top2=soup.select(\"span.table-body__logo-text\")[1:2]\n",
    "top2"
   ]
  },
  {
   "cell_type": "code",
   "execution_count": null,
   "id": "baa59ffe",
   "metadata": {},
   "outputs": [],
   "source": [
    "team2=[]\n",
    "\n",
    "for tm in top2:\n",
    "    tm=tm.get_text().replace('\\n',\" \")\n",
    "    team2.append(tm)\n",
    "team2"
   ]
  },
  {
   "cell_type": "code",
   "execution_count": null,
   "id": "1c02d592",
   "metadata": {},
   "outputs": [],
   "source": [
    "rate=soup.find_all(\"td\", class_=\"table-body__cell u-text-right rating\")[18:]\n",
    "rate"
   ]
  },
  {
   "cell_type": "code",
   "execution_count": null,
   "id": "77abe0a8",
   "metadata": {},
   "outputs": [],
   "source": [
    "top3=soup.select(\"div.rankings-block__banner--rating\")[2]\n",
    "top3"
   ]
  },
  {
   "cell_type": "code",
   "execution_count": null,
   "id": "9dea2e42",
   "metadata": {},
   "outputs": [],
   "source": [
    "rate.insert(0,top3)\n",
    "rate"
   ]
  },
  {
   "cell_type": "code",
   "execution_count": null,
   "id": "6ae7950d",
   "metadata": {},
   "outputs": [],
   "source": [
    "ratings=[]\n",
    "for rt in rate:\n",
    "    rt=rt.get_text().replace('\\n',\"\")\n",
    "    rt=rt.strip()\n",
    "    ratings.append(rt)\n",
    "ratings"
   ]
  },
  {
   "cell_type": "code",
   "execution_count": null,
   "id": "42140bdd",
   "metadata": {},
   "outputs": [],
   "source": [
    "df=pd.DataFrame({\"Players\":name_all,\"team\":team_name,\"rating\":ratings})\n",
    "df=df.style.hide_index()\n",
    "df"
   ]
  },
  {
   "cell_type": "markdown",
   "id": "32096ef7",
   "metadata": {},
   "source": [
    "Q7 scrape mentioned news details from https://www.cnbc.com/world/?region=world :"
   ]
  },
  {
   "cell_type": "code",
   "execution_count": null,
   "id": "440457bd",
   "metadata": {},
   "outputs": [],
   "source": [
    "import pandas as pd \n",
    "import requests\n",
    "from bs4 import BeautifulSoup\n",
    "page = requests.get('https://www.cnbc.com/world/?region=world')\n",
    "soup = BeautifulSoup(page.content,'html.parser')"
   ]
  },
  {
   "cell_type": "code",
   "execution_count": null,
   "id": "2fb190dd",
   "metadata": {},
   "outputs": [],
   "source": [
    "head=soup.select(\"a.LatestNews-headline\")\n",
    "head"
   ]
  },
  {
   "cell_type": "code",
   "execution_count": null,
   "id": "bf6dcc7d",
   "metadata": {},
   "outputs": [],
   "source": [
    "headline=[]\n",
    "for nm in head:\n",
    "    nm=nm.get_text().replace('\\n',\"\")\n",
    "    nm=nm.strip()\n",
    "    headline.append(nm)\n",
    "headline"
   ]
  },
  {
   "cell_type": "code",
   "execution_count": null,
   "id": "11de731d",
   "metadata": {},
   "outputs": [],
   "source": [
    "time=soup.find_all('time',class_='LatestNews-timestamp')\n",
    "time\n"
   ]
  },
  {
   "cell_type": "code",
   "execution_count": null,
   "id": "c3054194",
   "metadata": {},
   "outputs": [],
   "source": [
    "published_time=[]\n",
    "for nm in time:\n",
    "    nm=nm.get_text().replace('\\n',\"\")\n",
    "    nm=nm.strip()\n",
    "    published_time.append(nm)\n",
    "\n",
    "\n",
    "published_time"
   ]
  },
  {
   "cell_type": "code",
   "execution_count": null,
   "id": "4a37e0a7",
   "metadata": {},
   "outputs": [],
   "source": [
    "linked=soup.find_all('a', class_='LatestNews-headline')\n",
    "links= [link['href'] for link in linked]\n",
    "links\n",
    "\n",
    "    "
   ]
  },
  {
   "cell_type": "code",
   "execution_count": null,
   "id": "54ea5bee",
   "metadata": {},
   "outputs": [],
   "source": [
    "df=pd.DataFrame({\"Headline\":headline,\"Time\":published_time, \"News Link\": links})\n",
    "df"
   ]
  },
  {
   "cell_type": "markdown",
   "id": "ff13c564",
   "metadata": {},
   "source": [
    "Q8) most downloaded articles from AI in last 90 days"
   ]
  },
  {
   "cell_type": "code",
   "execution_count": null,
   "id": "4642f7d7",
   "metadata": {},
   "outputs": [],
   "source": [
    "import pandas as pd \n",
    "import requests\n",
    "from bs4 import BeautifulSoup\n",
    "page = requests.get('https://www.journals.elsevier.com/artificial-intelligence/most-downloaded-articles')\n",
    "soup = BeautifulSoup(page.content,'html.parser')\n",
    "page"
   ]
  },
  {
   "cell_type": "code",
   "execution_count": null,
   "id": "e13674fd",
   "metadata": {},
   "outputs": [],
   "source": [
    "page.content"
   ]
  },
  {
   "cell_type": "code",
   "execution_count": null,
   "id": "843029e1",
   "metadata": {},
   "outputs": [],
   "source": [
    "soup=BeautifulSoup(page.content, \"html.parser\")\n",
    "print(soup.prettify())"
   ]
  },
  {
   "cell_type": "code",
   "execution_count": null,
   "id": "e63e31d8",
   "metadata": {},
   "outputs": [],
   "source": [
    "title=soup.find_all('h2', class_='sc-1qrq3sd-1 MKjKb sc-1nmom32-0 sc-1nmom32-1 hqhUYH ebTA-dR')\n",
    "title"
   ]
  },
  {
   "cell_type": "code",
   "execution_count": null,
   "id": "03f4dc76",
   "metadata": {},
   "outputs": [],
   "source": [
    "headline=[]\n",
    "for nm in title:\n",
    "    nm=nm.get_text().replace('\\n',\"\")\n",
    "    nm=nm.strip()\n",
    "    headline.append(nm)\n",
    "headline"
   ]
  },
  {
   "cell_type": "code",
   "execution_count": null,
   "id": "dd12a51a",
   "metadata": {},
   "outputs": [],
   "source": [
    "author=soup.find_all('span',class_='sc-1w3fpd7-0 pgLAT')\n",
    "author"
   ]
  },
  {
   "cell_type": "code",
   "execution_count": null,
   "id": "8580adde",
   "metadata": {},
   "outputs": [],
   "source": [
    "authors=[]\n",
    "for nm in author:\n",
    "    nm=nm.get_text().replace('\\n',\"\")\n",
    "    nm=nm.strip()\n",
    "    authors.append(nm)\n",
    "authors"
   ]
  },
  {
   "cell_type": "code",
   "execution_count": null,
   "id": "72d3a24d",
   "metadata": {},
   "outputs": [],
   "source": [
    "date=soup.find_all('span', class_='sc-1thf9ly-2 bKddwo')\n",
    "date"
   ]
  },
  {
   "cell_type": "code",
   "execution_count": null,
   "id": "17d3f412",
   "metadata": {},
   "outputs": [],
   "source": [
    "published_date=[]\n",
    "for nm in date:\n",
    "    nm=nm.get_text().replace('\\n',\"\")\n",
    "    nm=nm.strip()\n",
    "    published_date.append(nm)\n",
    "published_date"
   ]
  },
  {
   "cell_type": "code",
   "execution_count": null,
   "id": "99250103",
   "metadata": {},
   "outputs": [],
   "source": [
    "linked=soup.find_all('a', class_='sc-5smygv-0 nrDZj')\n",
    "links= [link['href'] for link in linked]\n",
    "links"
   ]
  },
  {
   "cell_type": "code",
   "execution_count": null,
   "id": "2394e354",
   "metadata": {},
   "outputs": [],
   "source": [
    "df=pd.DataFrame({\"Paper Title\":headline, \"Authors\":authors,\"Published Date\":published_date, \"Paper URL\":links})\n",
    "df"
   ]
  },
  {
   "cell_type": "code",
   "execution_count": null,
   "id": "d5025fb1",
   "metadata": {},
   "outputs": [],
   "source": [
    "df=df.style.hide_index()\n",
    "df"
   ]
  },
  {
   "cell_type": "markdown",
   "id": "af5c9e91",
   "metadata": {},
   "source": [
    "Q9 Write a python program to scrape mentioned details from dineout.co.in :"
   ]
  },
  {
   "cell_type": "code",
   "execution_count": null,
   "id": "60f437a7",
   "metadata": {},
   "outputs": [],
   "source": [
    "import pandas as pd \n",
    "import requests\n",
    "from bs4 import BeautifulSoup\n",
    "page = requests.get('https://www.dineout.co.in/delhi-restaurants/buffet-special')\n",
    "soup = BeautifulSoup(page.content,'html.parser')\n",
    "page"
   ]
  },
  {
   "cell_type": "code",
   "execution_count": null,
   "id": "8cba4339",
   "metadata": {},
   "outputs": [],
   "source": [
    "restaurant=soup.find_all('a',class_='restnt-name ellipsis')\n",
    "restaurant"
   ]
  },
  {
   "cell_type": "code",
   "execution_count": null,
   "id": "810b5d0d",
   "metadata": {},
   "outputs": [],
   "source": [
    "name=[]\n",
    "for nm in restaurant:\n",
    "    nm=nm.get_text().split('(')[0]\n",
    "    name.append(nm)\n",
    "name"
   ]
  },
  {
   "cell_type": "code",
   "execution_count": null,
   "id": "287351f1",
   "metadata": {},
   "outputs": [],
   "source": [
    "cuisine=soup.find_all('span', class_='double-line-ellipsis')\n",
    "cuisine"
   ]
  },
  {
   "cell_type": "code",
   "execution_count": null,
   "id": "dcac145c",
   "metadata": {},
   "outputs": [],
   "source": [
    "dish=[]\n",
    "for nm in cuisine:\n",
    "    nm=nm.get_text().replace('\\n',' ')\n",
    "    nm=nm.split('|')[1]\n",
    "    dish.append(nm)\n",
    "dish"
   ]
  },
  {
   "cell_type": "code",
   "execution_count": null,
   "id": "2d50f816",
   "metadata": {},
   "outputs": [],
   "source": [
    "loc=soup.find_all('div',class_='restnt-loc ellipsis')\n",
    "loc"
   ]
  },
  {
   "cell_type": "code",
   "execution_count": null,
   "id": "7a5f7219",
   "metadata": {},
   "outputs": [],
   "source": [
    "location=[]\n",
    "for nm in loc:\n",
    "    nm=nm.get_text().replace('\\n',' ')\n",
    "    nm=nm.strip()\n",
    "    location.append(nm)\n",
    "location"
   ]
  },
  {
   "cell_type": "code",
   "execution_count": null,
   "id": "fbcad792",
   "metadata": {},
   "outputs": [],
   "source": [
    "rat=soup.find_all('div',class_='restnt-rating rating-4')\n",
    "rat"
   ]
  },
  {
   "cell_type": "code",
   "execution_count": null,
   "id": "5c4b60cd",
   "metadata": {},
   "outputs": [],
   "source": [
    "rating=[]\n",
    "for nm in rat:\n",
    "    nm=nm.get_text().replace('\\n',' ')\n",
    "    nm=nm.strip( )\n",
    "    rating.append(nm)\n",
    "rating"
   ]
  },
  {
   "cell_type": "code",
   "execution_count": null,
   "id": "45903b83",
   "metadata": {},
   "outputs": [],
   "source": [
    "iurl= []\n",
    "a = soup.find_all(\"img\",class_=\"no-img\")\n",
    "for b in a:\n",
    "    #print(str(b['data-src']))\n",
    "    iurl.append(str(b['data-src']))\n",
    "    \n",
    "iurl"
   ]
  },
  {
   "cell_type": "code",
   "execution_count": null,
   "id": "de43f8ba",
   "metadata": {},
   "outputs": [],
   "source": [
    "df=pd.DataFrame({'Restaurant_name':name,'Cuisine':dish,'Location':location,'Rating':rating,'Image Url':iurl})\n",
    "df.style.hide_index()"
   ]
  },
  {
   "cell_type": "markdown",
   "id": "618f01ee",
   "metadata": {},
   "source": [
    "Q10 top publications from Google Scholar"
   ]
  },
  {
   "cell_type": "code",
   "execution_count": null,
   "id": "86a7bc81",
   "metadata": {},
   "outputs": [],
   "source": [
    "import pandas as pd \n",
    "import requests\n",
    "from bs4 import BeautifulSoup\n",
    "page = requests.get('https://scholar.google.com/citations?view_op=top_venues&hl=en')\n",
    "soup = BeautifulSoup(page.content,'html.parser')\n",
    "page"
   ]
  },
  {
   "cell_type": "code",
   "execution_count": null,
   "id": "535e0af7",
   "metadata": {},
   "outputs": [],
   "source": [
    "rank=soup.find_all('td',class_='gsc_mvt_p')\n",
    "rank"
   ]
  },
  {
   "cell_type": "code",
   "execution_count": null,
   "id": "e19a8d9a",
   "metadata": {},
   "outputs": [],
   "source": [
    "ranks=[]\n",
    "for nm in rank:\n",
    "    nm=nm.get_text().replace('\\n',\"\")\n",
    "    nm=nm.strip()\n",
    "    ranks.append(nm)\n",
    "ranks"
   ]
  },
  {
   "cell_type": "code",
   "execution_count": null,
   "id": "fb759b88",
   "metadata": {},
   "outputs": [],
   "source": [
    "pub=soup.find_all('td', class_='gsc_mvt_t')\n",
    "pub"
   ]
  },
  {
   "cell_type": "code",
   "execution_count": null,
   "id": "c6aa962d",
   "metadata": {},
   "outputs": [],
   "source": [
    "publication=[]\n",
    "for nm in pub:\n",
    "    nm=nm.get_text().replace('\\n',\"\")\n",
    "    nm=nm.strip()\n",
    "    publication.append(nm)\n",
    "publication"
   ]
  },
  {
   "cell_type": "code",
   "execution_count": null,
   "id": "25d3888a",
   "metadata": {},
   "outputs": [],
   "source": [
    "h5=soup.find_all('a', class_='gs_ibl gsc_mp_anchor')\n",
    "h5"
   ]
  },
  {
   "cell_type": "code",
   "execution_count": null,
   "id": "3b4e26c5",
   "metadata": {},
   "outputs": [],
   "source": [
    "h5_index=[]\n",
    "for nm in h5:\n",
    "    nm=nm.get_text().replace('\\n',\"\")\n",
    "    nm=nm.strip()\n",
    "    h5_index.append(nm)\n",
    "h5_index"
   ]
  },
  {
   "cell_type": "code",
   "execution_count": null,
   "id": "0af450b7",
   "metadata": {},
   "outputs": [],
   "source": [
    "h5m=soup.find_all('span',class_='gs_ibl gsc_mp_anchor')\n",
    "h5m"
   ]
  },
  {
   "cell_type": "code",
   "execution_count": null,
   "id": "5a4b8101",
   "metadata": {},
   "outputs": [],
   "source": [
    "h5_median=[]\n",
    "for nm in h5m:\n",
    "    nm=nm.get_text().replace('\\n',\"\")\n",
    "    nm=nm.strip()\n",
    "    h5_median.append(nm)\n",
    "h5_median[:100]"
   ]
  },
  {
   "cell_type": "code",
   "execution_count": null,
   "id": "4bf4054c",
   "metadata": {},
   "outputs": [],
   "source": [
    "df=pd.DataFrame({\"Rank\":ranks, \"Publication\":publication,\"h5-index\":h5_index,\"h5-median\":h5_median})\n",
    "\n",
    "df=df.style.hide_index()\n",
    "df"
   ]
  },
  {
   "cell_type": "code",
   "execution_count": null,
   "id": "65130f1a",
   "metadata": {},
   "outputs": [],
   "source": []
  }
 ],
 "metadata": {
  "kernelspec": {
   "display_name": "Python 3 (ipykernel)",
   "language": "python",
   "name": "python3"
  },
  "language_info": {
   "codemirror_mode": {
    "name": "ipython",
    "version": 3
   },
   "file_extension": ".py",
   "mimetype": "text/x-python",
   "name": "python",
   "nbconvert_exporter": "python",
   "pygments_lexer": "ipython3",
   "version": "3.9.7"
  }
 },
 "nbformat": 4,
 "nbformat_minor": 5
}
