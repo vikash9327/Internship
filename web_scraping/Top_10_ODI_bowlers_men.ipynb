{
 "cells": [
  {
   "cell_type": "code",
   "execution_count": 1,
   "id": "93413b40",
   "metadata": {
    "scrolled": false
   },
   "outputs": [],
   "source": [
    "import pandas as pd \n",
    "import requests\n",
    "from bs4 import BeautifulSoup\n",
    "page = requests.get('https://www.icc-cricket.com/rankings/mens/player-rankings/odi')\n",
    "soup = BeautifulSoup(page.content,'html.parser')"
   ]
  },
  {
   "cell_type": "code",
   "execution_count": 2,
   "id": "38fd77e5",
   "metadata": {},
   "outputs": [
    {
     "data": {
      "text/plain": [
       "[<a href=\"/rankings/mens/player-rankings/857\">Josh Hazlewood</a>,\n",
       " <a href=\"/rankings/mens/player-rankings/4572\">Mujeeb Ur Rahman</a>,\n",
       " <a href=\"/rankings/mens/player-rankings/1124\">Jasprit Bumrah</a>,\n",
       " <a href=\"/rankings/mens/player-rankings/4530\">Shaheen Afridi</a>,\n",
       " <a href=\"/rankings/mens/player-rankings/618\">Mohammad Nabi</a>,\n",
       " <a href=\"/rankings/mens/player-rankings/1597\">Mehedi Hasan</a>,\n",
       " <a href=\"/rankings/mens/player-rankings/2885\">Rashid Khan</a>,\n",
       " <a href=\"/rankings/mens/player-rankings/1505\">Matt Henry</a>,\n",
       " <a href=\"/rankings/mens/player-rankings/1594\">Mustafizur Rahman</a>]"
      ]
     },
     "execution_count": 2,
     "metadata": {},
     "output_type": "execute_result"
    }
   ],
   "source": [
    "bowl=soup.select(\"tr.table-body a\")\n",
    "bowl=bowl[9:18]\n",
    "bowl"
   ]
  },
  {
   "cell_type": "code",
   "execution_count": 3,
   "id": "0aabf01f",
   "metadata": {},
   "outputs": [
    {
     "data": {
      "text/plain": [
       "<div class=\"rankings-block__banner--name\">Trent Boult</div>"
      ]
     },
     "execution_count": 3,
     "metadata": {},
     "output_type": "execute_result"
    }
   ],
   "source": [
    "top=soup.find_all(class_=\"rankings-block__banner--name\")[1]\n",
    "top"
   ]
  },
  {
   "cell_type": "code",
   "execution_count": 4,
   "id": "d8b7984f",
   "metadata": {},
   "outputs": [
    {
     "data": {
      "text/plain": [
       "[<div class=\"rankings-block__banner--name\">Trent Boult</div>,\n",
       " <a href=\"/rankings/mens/player-rankings/857\">Josh Hazlewood</a>,\n",
       " <a href=\"/rankings/mens/player-rankings/4572\">Mujeeb Ur Rahman</a>,\n",
       " <a href=\"/rankings/mens/player-rankings/1124\">Jasprit Bumrah</a>,\n",
       " <a href=\"/rankings/mens/player-rankings/4530\">Shaheen Afridi</a>,\n",
       " <a href=\"/rankings/mens/player-rankings/618\">Mohammad Nabi</a>,\n",
       " <a href=\"/rankings/mens/player-rankings/1597\">Mehedi Hasan</a>,\n",
       " <a href=\"/rankings/mens/player-rankings/2885\">Rashid Khan</a>,\n",
       " <a href=\"/rankings/mens/player-rankings/1505\">Matt Henry</a>,\n",
       " <a href=\"/rankings/mens/player-rankings/1594\">Mustafizur Rahman</a>]"
      ]
     },
     "execution_count": 4,
     "metadata": {},
     "output_type": "execute_result"
    }
   ],
   "source": [
    "bowl.insert(0,top)\n",
    "bowl"
   ]
  },
  {
   "cell_type": "code",
   "execution_count": 5,
   "id": "b1120b75",
   "metadata": {},
   "outputs": [
    {
     "data": {
      "text/plain": [
       "['Trent Boult',\n",
       " 'Josh Hazlewood',\n",
       " 'Mujeeb Ur Rahman',\n",
       " 'Jasprit Bumrah',\n",
       " 'Shaheen Afridi',\n",
       " 'Mohammad Nabi',\n",
       " 'Mehedi Hasan',\n",
       " 'Rashid Khan',\n",
       " 'Matt Henry',\n",
       " 'Mustafizur Rahman']"
      ]
     },
     "execution_count": 5,
     "metadata": {},
     "output_type": "execute_result"
    }
   ],
   "source": [
    "name=[]\n",
    "for nm in bowl:\n",
    "    nm=nm.get_text().replace('\\n',\"\")\n",
    "    nm=nm.strip()\n",
    "    name.append(nm)\n",
    "name"
   ]
  },
  {
   "cell_type": "code",
   "execution_count": 23,
   "id": "30f0d476",
   "metadata": {},
   "outputs": [
    {
     "data": {
      "text/plain": [
       "[<span class=\"table-body__logo-text\">AUS</span>,\n",
       " <span class=\"table-body__logo-text\">AFG</span>,\n",
       " <span class=\"table-body__logo-text\">IND</span>,\n",
       " <span class=\"table-body__logo-text\">PAK</span>,\n",
       " <span class=\"table-body__logo-text\">AFG</span>,\n",
       " <span class=\"table-body__logo-text\">BAN</span>,\n",
       " <span class=\"table-body__logo-text\">AFG</span>,\n",
       " <span class=\"table-body__logo-text\">NZ</span>,\n",
       " <span class=\"table-body__logo-text\">BAN</span>]"
      ]
     },
     "execution_count": 23,
     "metadata": {},
     "output_type": "execute_result"
    }
   ],
   "source": [
    "team=soup.select(\"span.table-body__logo-text\")\n",
    "team=team[9:18]\n",
    "team"
   ]
  },
  {
   "cell_type": "code",
   "execution_count": 24,
   "id": "531a30d9",
   "metadata": {},
   "outputs": [
    {
     "data": {
      "text/plain": [
       "['AUS', 'AFG', 'IND', 'PAK', 'AFG', 'BAN', 'AFG', 'NZ', 'BAN']"
      ]
     },
     "execution_count": 24,
     "metadata": {},
     "output_type": "execute_result"
    }
   ],
   "source": [
    "teams=[]\n",
    "\n",
    "for tm in team:\n",
    "    tm=tm.get_text().replace('\\n',\" \")\n",
    "    teams.append(tm)\n",
    "teams"
   ]
  },
  {
   "cell_type": "code",
   "execution_count": 12,
   "id": "cb73e751",
   "metadata": {},
   "outputs": [
    {
     "data": {
      "text/plain": [
       "[<span class=\"table-body__logo-text\">NZ</span>]"
      ]
     },
     "execution_count": 12,
     "metadata": {},
     "output_type": "execute_result"
    }
   ],
   "source": [
    "top2=soup.select(\"span.table-body__logo-text\")[16:17]\n",
    "top2"
   ]
  },
  {
   "cell_type": "code",
   "execution_count": 25,
   "id": "ee898832",
   "metadata": {},
   "outputs": [
    {
     "data": {
      "text/plain": [
       "['NZ']"
      ]
     },
     "execution_count": 25,
     "metadata": {},
     "output_type": "execute_result"
    }
   ],
   "source": [
    "team1=[]\n",
    "\n",
    "for tm in top2:\n",
    "    tm=tm.get_text().replace('\\n',\" \")\n",
    "    team1.append(tm)\n",
    "team1"
   ]
  },
  {
   "cell_type": "code",
   "execution_count": 26,
   "id": "feb3078d",
   "metadata": {},
   "outputs": [
    {
     "data": {
      "text/plain": [
       "['NZ', 'AUS', 'AFG', 'IND', 'PAK', 'AFG', 'BAN', 'AFG', 'NZ', 'BAN']"
      ]
     },
     "execution_count": 26,
     "metadata": {},
     "output_type": "execute_result"
    }
   ],
   "source": [
    "team_name=team1+teams\n",
    "team_name"
   ]
  },
  {
   "cell_type": "code",
   "execution_count": 29,
   "id": "3dff40de",
   "metadata": {},
   "outputs": [
    {
     "data": {
      "text/plain": [
       "[<td class=\"table-body__cell u-text-right rating\">679</td>,\n",
       " <td class=\"table-body__cell u-text-right rating\">676</td>,\n",
       " <td class=\"table-body__cell u-text-right rating\">662</td>,\n",
       " <td class=\"table-body__cell u-text-right rating\">661</td>,\n",
       " <td class=\"table-body__cell u-text-right rating\">657</td>,\n",
       " <td class=\"table-body__cell u-text-right rating\">655</td>,\n",
       " <td class=\"table-body__cell u-text-right rating\">651</td>,\n",
       " <td class=\"table-body__cell u-text-right rating\">644</td>,\n",
       " <td class=\"table-body__cell u-text-right rating\">640</td>]"
      ]
     },
     "execution_count": 29,
     "metadata": {},
     "output_type": "execute_result"
    }
   ],
   "source": [
    "rate=soup.find_all(\"td\", class_=\"table-body__cell u-text-right rating\")[9:18]\n",
    "rate"
   ]
  },
  {
   "cell_type": "code",
   "execution_count": 30,
   "id": "c17d74a7",
   "metadata": {},
   "outputs": [
    {
     "data": {
      "text/plain": [
       "<div class=\"rankings-block__banner--rating\">720</div>"
      ]
     },
     "execution_count": 30,
     "metadata": {},
     "output_type": "execute_result"
    }
   ],
   "source": [
    "top3=soup.select(\"div.rankings-block__banner--rating\")[1]\n",
    "top3"
   ]
  },
  {
   "cell_type": "code",
   "execution_count": 31,
   "id": "c3236b3b",
   "metadata": {},
   "outputs": [
    {
     "data": {
      "text/plain": [
       "[<div class=\"rankings-block__banner--rating\">720</div>,\n",
       " <td class=\"table-body__cell u-text-right rating\">679</td>,\n",
       " <td class=\"table-body__cell u-text-right rating\">676</td>,\n",
       " <td class=\"table-body__cell u-text-right rating\">662</td>,\n",
       " <td class=\"table-body__cell u-text-right rating\">661</td>,\n",
       " <td class=\"table-body__cell u-text-right rating\">657</td>,\n",
       " <td class=\"table-body__cell u-text-right rating\">655</td>,\n",
       " <td class=\"table-body__cell u-text-right rating\">651</td>,\n",
       " <td class=\"table-body__cell u-text-right rating\">644</td>,\n",
       " <td class=\"table-body__cell u-text-right rating\">640</td>]"
      ]
     },
     "execution_count": 31,
     "metadata": {},
     "output_type": "execute_result"
    }
   ],
   "source": [
    "rate.insert(0,top3)\n",
    "rate"
   ]
  },
  {
   "cell_type": "code",
   "execution_count": 32,
   "id": "4e4edea5",
   "metadata": {},
   "outputs": [
    {
     "data": {
      "text/plain": [
       "['720', '679', '676', '662', '661', '657', '655', '651', '644', '640']"
      ]
     },
     "execution_count": 32,
     "metadata": {},
     "output_type": "execute_result"
    }
   ],
   "source": [
    "ratings=[]\n",
    "for rt in rate:\n",
    "    rt=rt.get_text().replace('\\n',\"\")\n",
    "    rt=rt.strip()\n",
    "    ratings.append(rt)\n",
    "ratings"
   ]
  },
  {
   "cell_type": "code",
   "execution_count": 33,
   "id": "f6410aa2",
   "metadata": {},
   "outputs": [
    {
     "data": {
      "text/html": [
       "<div>\n",
       "<style scoped>\n",
       "    .dataframe tbody tr th:only-of-type {\n",
       "        vertical-align: middle;\n",
       "    }\n",
       "\n",
       "    .dataframe tbody tr th {\n",
       "        vertical-align: top;\n",
       "    }\n",
       "\n",
       "    .dataframe thead th {\n",
       "        text-align: right;\n",
       "    }\n",
       "</style>\n",
       "<table border=\"1\" class=\"dataframe\">\n",
       "  <thead>\n",
       "    <tr style=\"text-align: right;\">\n",
       "      <th></th>\n",
       "      <th>Players</th>\n",
       "      <th>team</th>\n",
       "      <th>rating</th>\n",
       "    </tr>\n",
       "  </thead>\n",
       "  <tbody>\n",
       "    <tr>\n",
       "      <th>0</th>\n",
       "      <td>Trent Boult</td>\n",
       "      <td>NZ</td>\n",
       "      <td>720</td>\n",
       "    </tr>\n",
       "    <tr>\n",
       "      <th>1</th>\n",
       "      <td>Josh Hazlewood</td>\n",
       "      <td>AUS</td>\n",
       "      <td>679</td>\n",
       "    </tr>\n",
       "    <tr>\n",
       "      <th>2</th>\n",
       "      <td>Mujeeb Ur Rahman</td>\n",
       "      <td>AFG</td>\n",
       "      <td>676</td>\n",
       "    </tr>\n",
       "    <tr>\n",
       "      <th>3</th>\n",
       "      <td>Jasprit Bumrah</td>\n",
       "      <td>IND</td>\n",
       "      <td>662</td>\n",
       "    </tr>\n",
       "    <tr>\n",
       "      <th>4</th>\n",
       "      <td>Shaheen Afridi</td>\n",
       "      <td>PAK</td>\n",
       "      <td>661</td>\n",
       "    </tr>\n",
       "    <tr>\n",
       "      <th>5</th>\n",
       "      <td>Mohammad Nabi</td>\n",
       "      <td>AFG</td>\n",
       "      <td>657</td>\n",
       "    </tr>\n",
       "    <tr>\n",
       "      <th>6</th>\n",
       "      <td>Mehedi Hasan</td>\n",
       "      <td>BAN</td>\n",
       "      <td>655</td>\n",
       "    </tr>\n",
       "    <tr>\n",
       "      <th>7</th>\n",
       "      <td>Rashid Khan</td>\n",
       "      <td>AFG</td>\n",
       "      <td>651</td>\n",
       "    </tr>\n",
       "    <tr>\n",
       "      <th>8</th>\n",
       "      <td>Matt Henry</td>\n",
       "      <td>NZ</td>\n",
       "      <td>644</td>\n",
       "    </tr>\n",
       "    <tr>\n",
       "      <th>9</th>\n",
       "      <td>Mustafizur Rahman</td>\n",
       "      <td>BAN</td>\n",
       "      <td>640</td>\n",
       "    </tr>\n",
       "  </tbody>\n",
       "</table>\n",
       "</div>"
      ],
      "text/plain": [
       "             Players team rating\n",
       "0        Trent Boult   NZ    720\n",
       "1     Josh Hazlewood  AUS    679\n",
       "2   Mujeeb Ur Rahman  AFG    676\n",
       "3     Jasprit Bumrah  IND    662\n",
       "4     Shaheen Afridi  PAK    661\n",
       "5      Mohammad Nabi  AFG    657\n",
       "6       Mehedi Hasan  BAN    655\n",
       "7        Rashid Khan  AFG    651\n",
       "8         Matt Henry   NZ    644\n",
       "9  Mustafizur Rahman  BAN    640"
      ]
     },
     "execution_count": 33,
     "metadata": {},
     "output_type": "execute_result"
    }
   ],
   "source": [
    "df=pd.DataFrame({\"Players\":name,\"team\":team_name,\"rating\":ratings})\n",
    "df"
   ]
  },
  {
   "cell_type": "code",
   "execution_count": null,
   "id": "2aa6f227",
   "metadata": {},
   "outputs": [],
   "source": []
  },
  {
   "cell_type": "code",
   "execution_count": null,
   "id": "480d2bb1",
   "metadata": {},
   "outputs": [],
   "source": []
  }
 ],
 "metadata": {
  "kernelspec": {
   "display_name": "Python 3 (ipykernel)",
   "language": "python",
   "name": "python3"
  },
  "language_info": {
   "codemirror_mode": {
    "name": "ipython",
    "version": 3
   },
   "file_extension": ".py",
   "mimetype": "text/x-python",
   "name": "python",
   "nbconvert_exporter": "python",
   "pygments_lexer": "ipython3",
   "version": "3.9.7"
  }
 },
 "nbformat": 4,
 "nbformat_minor": 5
}
