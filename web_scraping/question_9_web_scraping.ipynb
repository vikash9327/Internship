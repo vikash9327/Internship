{
 "cells": [
  {
   "cell_type": "code",
   "execution_count": 5,
   "id": "0ee2ea43",
   "metadata": {},
   "outputs": [
    {
     "data": {
      "text/plain": [
       "<Response [200]>"
      ]
     },
     "execution_count": 5,
     "metadata": {},
     "output_type": "execute_result"
    }
   ],
   "source": [
    "import pandas as pd \n",
    "import requests\n",
    "from bs4 import BeautifulSoup\n",
    "page = requests.get('https://www.dineout.co.in')\n",
    "soup = BeautifulSoup(page.content,'html.parser')\n",
    "page"
   ]
  },
  {
   "cell_type": "code",
   "execution_count": 17,
   "id": "c0025648",
   "metadata": {},
   "outputs": [
    {
     "data": {
      "text/plain": [
       "[<a analytics-action=\"RestaurantCardClick\" analytics-label=\"86792_Castle Barbeque\" class=\"restnt-name ellipsis\" data-w-onclick=\"sendAnalyticsCommon|w1-restarant\" href=\"/delhi/castle-barbeque-connaught-place-central-delhi-86792\">Castle Barbeque</a>,\n",
       " <a analytics-action=\"RestaurantCardClick\" analytics-label=\"59633_Jungle Jamboree\" class=\"restnt-name ellipsis\" data-w-onclick=\"sendAnalyticsCommon|w1-restarant\" href=\"/delhi/jungle-jamboree-lajpat-nagar-3-south-delhi-59633\">Jungle Jamboree</a>,\n",
       " <a analytics-action=\"RestaurantCardClick\" analytics-label=\"38113_Castle Barbeque\" class=\"restnt-name ellipsis\" data-w-onclick=\"sendAnalyticsCommon|w1-restarant\" href=\"/delhi/castle-barbeque-tagore-garden-west-delhi-38113\">Castle Barbeque</a>,\n",
       " <a analytics-action=\"RestaurantCardClick\" analytics-label=\"406_Cafe Knosh\" class=\"restnt-name ellipsis\" data-w-onclick=\"sendAnalyticsCommon|w1-restarant\" href=\"/delhi/cafe-knosh-shahdara-east-delhi-406\">Cafe Knosh</a>,\n",
       " <a analytics-action=\"RestaurantCardClick\" analytics-label=\"79307_The Barbeque Company\" class=\"restnt-name ellipsis\" data-w-onclick=\"sendAnalyticsCommon|w1-restarant\" href=\"/delhi/the-barbeque-company-sector-38a-noida-79307\">The Barbeque Company</a>,\n",
       " <a analytics-action=\"RestaurantCardClick\" analytics-label=\"2687_India Grill\" class=\"restnt-name ellipsis\" data-w-onclick=\"sendAnalyticsCommon|w1-restarant\" href=\"/delhi/india-grill-saket-south-delhi-2687\">India Grill</a>,\n",
       " <a analytics-action=\"RestaurantCardClick\" analytics-label=\"52501_Delhi Barbeque\" class=\"restnt-name ellipsis\" data-w-onclick=\"sendAnalyticsCommon|w1-restarant\" href=\"/delhi/delhi-barbeque-mahipalpur-south-delhi-52501\">Delhi Barbeque</a>,\n",
       " <a analytics-action=\"RestaurantCardClick\" analytics-label=\"34822_The Monarch - Bar Be Que Village\" class=\"restnt-name ellipsis\" data-w-onclick=\"sendAnalyticsCommon|w1-restarant\" href=\"/delhi/the-monarch-bar-be-que-village-indirapuram-ghaziabad-34822\">The Monarch - Bar Be Que Village</a>,\n",
       " <a analytics-action=\"RestaurantCardClick\" analytics-label=\"549_Indian Grill Room\" class=\"restnt-name ellipsis\" data-w-onclick=\"sendAnalyticsCommon|w1-restarant\" href=\"/delhi/indian-grill-room-golf-course-road-gurgaon-549\">Indian Grill Room</a>]"
      ]
     },
     "execution_count": 17,
     "metadata": {},
     "output_type": "execute_result"
    }
   ],
   "source": [
    "restaurant=soup.find_all('a',class_='restnt-name ellipsis')\n",
    "restaurant"
   ]
  },
  {
   "cell_type": "code",
   "execution_count": 18,
   "id": "70ded3b5",
   "metadata": {},
   "outputs": [
    {
     "data": {
      "text/plain": [
       "['Castle Barbeque',\n",
       " 'Jungle Jamboree',\n",
       " 'Castle Barbeque',\n",
       " 'Cafe Knosh',\n",
       " 'The Barbeque Company',\n",
       " 'India Grill',\n",
       " 'Delhi Barbeque',\n",
       " 'The Monarch - Bar Be Que Village',\n",
       " 'Indian Grill Room']"
      ]
     },
     "execution_count": 18,
     "metadata": {},
     "output_type": "execute_result"
    }
   ],
   "source": [
    "name=[]\n",
    "for nm in restaurant:\n",
    "    nm=nm.get_text().split('(')[0]\n",
    "    name.append(nm)\n",
    "name"
   ]
  },
  {
   "cell_type": "code",
   "execution_count": 20,
   "id": "6eff76a0",
   "metadata": {},
   "outputs": [
    {
     "data": {
      "text/plain": [
       "[<span class=\"double-line-ellipsis\"><span>₹ 2,000 for 2 (approx)</span><span> | </span><a data-w-onclick=\"stopClickPropagation|w1-restarant\" href=\"/delhi-restaurants/chinese-cuisine\">Chinese</a><span>, </span><a data-w-onclick=\"stopClickPropagation|w1-restarant\" href=\"/delhi-restaurants/north-indian-cuisine\">North Indian</a></span>,\n",
       " <span class=\"double-line-ellipsis\"><span>₹ 1,680 for 2 (approx)</span><span> | </span><a data-w-onclick=\"stopClickPropagation|w1-restarant\" href=\"/delhi-restaurants/north-indian-cuisine\">North Indian</a><span>, </span><a data-w-onclick=\"stopClickPropagation|w1-restarant\" href=\"/delhi-restaurants/asian-cuisine\">Asian</a><span>, </span><a data-w-onclick=\"stopClickPropagation|w1-restarant\" href=\"/delhi-restaurants/italian-cuisine\">Italian</a></span>,\n",
       " <span class=\"double-line-ellipsis\"><span>₹ 2,000 for 2 (approx)</span><span> | </span><a data-w-onclick=\"stopClickPropagation|w1-restarant\" href=\"/delhi-restaurants/chinese-cuisine\">Chinese</a><span>, </span><a data-w-onclick=\"stopClickPropagation|w1-restarant\" href=\"/delhi-restaurants/north-indian-cuisine\">North Indian</a></span>,\n",
       " <span class=\"double-line-ellipsis\"><span>₹ 3,000 for 2 (approx)</span><span> | </span><a data-w-onclick=\"stopClickPropagation|w1-restarant\" href=\"/delhi-restaurants/italian-cuisine\">Italian</a><span>, </span><a data-w-onclick=\"stopClickPropagation|w1-restarant\" href=\"/delhi-restaurants/continental-cuisine\">Continental</a></span>,\n",
       " <span class=\"double-line-ellipsis\"><span>₹ 1,700 for 2 (approx)</span><span> | </span><a data-w-onclick=\"stopClickPropagation|w1-restarant\" href=\"/delhi-restaurants/north-indian-cuisine\">North Indian</a><span>, </span><a data-w-onclick=\"stopClickPropagation|w1-restarant\" href=\"/delhi-restaurants/chinese-cuisine\">Chinese</a></span>,\n",
       " <span class=\"double-line-ellipsis\"><span>₹ 2,400 for 2 (approx)</span><span> | </span><a data-w-onclick=\"stopClickPropagation|w1-restarant\" href=\"/delhi-restaurants/north-indian-cuisine\">North Indian</a><span>, </span><a data-w-onclick=\"stopClickPropagation|w1-restarant\" href=\"/delhi-restaurants/italian-cuisine\">Italian</a></span>,\n",
       " <span class=\"double-line-ellipsis\"><span>₹ 1,800 for 2 (approx)</span><span> | </span><a data-w-onclick=\"stopClickPropagation|w1-restarant\" href=\"/delhi-restaurants/north-indian-cuisine\">North Indian</a></span>,\n",
       " <span class=\"double-line-ellipsis\"><span>₹ 1,900 for 2 (approx)</span><span> | </span><a data-w-onclick=\"stopClickPropagation|w1-restarant\" href=\"/delhi-restaurants/north-indian-cuisine\">North Indian</a></span>,\n",
       " <span class=\"double-line-ellipsis\"><span>₹ 2,200 for 2 (approx)</span><span> | </span><a data-w-onclick=\"stopClickPropagation|w1-restarant\" href=\"/delhi-restaurants/north-indian-cuisine\">North Indian</a><span>, </span><a data-w-onclick=\"stopClickPropagation|w1-restarant\" href=\"/delhi-restaurants/mughlai-cuisine\">Mughlai</a></span>]"
      ]
     },
     "execution_count": 20,
     "metadata": {},
     "output_type": "execute_result"
    }
   ],
   "source": [
    "cuisine=soup.find_all('span', class_='double-line-ellipsis')\n",
    "cuisine"
   ]
  },
  {
   "cell_type": "code",
   "execution_count": 26,
   "id": "5a4291af",
   "metadata": {},
   "outputs": [
    {
     "data": {
      "text/plain": [
       "[' Chinese, North Indian',\n",
       " ' North Indian, Asian, Italian',\n",
       " ' Chinese, North Indian',\n",
       " ' Italian, Continental',\n",
       " ' North Indian, Chinese',\n",
       " ' North Indian, Italian',\n",
       " ' North Indian',\n",
       " ' North Indian',\n",
       " ' North Indian, Mughlai']"
      ]
     },
     "execution_count": 26,
     "metadata": {},
     "output_type": "execute_result"
    }
   ],
   "source": [
    "dish=[]\n",
    "for nm in cuisine:\n",
    "    nm=nm.get_text().replace('\\n',' ')\n",
    "    nm=nm.split('|')[1]\n",
    "    dish.append(nm)\n",
    "dish"
   ]
  },
  {
   "cell_type": "code",
   "execution_count": 27,
   "id": "55cf842a",
   "metadata": {},
   "outputs": [
    {
     "data": {
      "text/plain": [
       "[<div class=\"restnt-loc ellipsis\" data-w-onclick=\"stopClickPropagation|w1-restarant\"><a data-name=\"Connaught Place\" data-type=\"LocalityClick\" href=\"/delhi-restaurants/central-delhi/connaught-place\">Connaught Place</a>, <a data-name=\"Central Delhi\" data-type=\"AreaClick\" href=\"/delhi-restaurants/central-delhi\">Central Delhi</a></div>,\n",
       " <div class=\"restnt-loc ellipsis\" data-w-onclick=\"stopClickPropagation|w1-restarant\"><a href=\"/delhi-restaurants/3cs-mall-landmark\">3CS Mall,</a><a data-name=\"Lajpat Nagar - 3\" data-type=\"LocalityClick\" href=\"/delhi-restaurants/south-delhi/lajpat-nagar-3\">Lajpat Nagar - 3</a>, <a data-name=\"South Delhi\" data-type=\"AreaClick\" href=\"/delhi-restaurants/south-delhi\">South Delhi</a></div>,\n",
       " <div class=\"restnt-loc ellipsis\" data-w-onclick=\"stopClickPropagation|w1-restarant\"><a href=\"/delhi-restaurants/pacific-mall-landmark\">Pacific Mall,</a><a data-name=\"Tagore Garden\" data-type=\"LocalityClick\" href=\"/delhi-restaurants/west-delhi/tagore-garden\">Tagore Garden</a>, <a data-name=\"West Delhi\" data-type=\"AreaClick\" href=\"/delhi-restaurants/west-delhi\">West Delhi</a></div>,\n",
       " <div class=\"restnt-loc ellipsis\" data-w-onclick=\"stopClickPropagation|w1-restarant\"><a href=\"/delhi-restaurants/the-leela-ambience-convention-hotel-landmark\">The Leela Ambience Convention Hotel,</a><a data-name=\"Shahdara\" data-type=\"LocalityClick\" href=\"/delhi-restaurants/east-delhi/shahdara\">Shahdara</a>, <a data-name=\"East Delhi\" data-type=\"AreaClick\" href=\"/delhi-restaurants/east-delhi\">East Delhi</a></div>,\n",
       " <div class=\"restnt-loc ellipsis\" data-w-onclick=\"stopClickPropagation|w1-restarant\"><a href=\"/delhi-restaurants/gardens-galleria-landmark\">Gardens Galleria,</a><a data-name=\"Sector 38A\" data-type=\"LocalityClick\" href=\"/delhi-restaurants/noida/sector-38a\">Sector 38A</a>, <a data-name=\"Noida\" data-type=\"AreaClick\" href=\"/delhi-restaurants/noida\">Noida</a></div>,\n",
       " <div class=\"restnt-loc ellipsis\" data-w-onclick=\"stopClickPropagation|w1-restarant\"><a href=\"/delhi-restaurants/hilton-garden-inn-landmark\">Hilton Garden Inn,</a><a data-name=\"Saket\" data-type=\"LocalityClick\" href=\"/delhi-restaurants/south-delhi/saket\">Saket</a>, <a data-name=\"South Delhi\" data-type=\"AreaClick\" href=\"/delhi-restaurants/south-delhi\">South Delhi</a></div>,\n",
       " <div class=\"restnt-loc ellipsis\" data-w-onclick=\"stopClickPropagation|w1-restarant\"><a href=\"/delhi-restaurants/taurus-sarovar-portico-landmark\">Taurus Sarovar Portico,</a><a data-name=\"Mahipalpur\" data-type=\"LocalityClick\" href=\"/delhi-restaurants/south-delhi/mahipalpur\">Mahipalpur</a>, <a data-name=\"South Delhi\" data-type=\"AreaClick\" href=\"/delhi-restaurants/south-delhi\">South Delhi</a></div>,\n",
       " <div class=\"restnt-loc ellipsis\" data-w-onclick=\"stopClickPropagation|w1-restarant\"><a href=\"/delhi-restaurants/indirapuram-habitat-centre-landmark\">Indirapuram Habitat Centre,</a><a data-name=\"Indirapuram\" data-type=\"LocalityClick\" href=\"/delhi-restaurants/ghaziabad/indirapuram\">Indirapuram</a>, <a data-name=\"Ghaziabad\" data-type=\"AreaClick\" href=\"/delhi-restaurants/ghaziabad\">Ghaziabad</a></div>,\n",
       " <div class=\"restnt-loc ellipsis\" data-w-onclick=\"stopClickPropagation|w1-restarant\"><a href=\"/delhi-restaurants/suncity-business-tower-landmark\">Suncity Business Tower,</a><a data-name=\"Golf Course Road\" data-type=\"LocalityClick\" href=\"/delhi-restaurants/gurgaon/golf-course-road\">Golf Course Road</a>, <a data-name=\"Gurgaon\" data-type=\"AreaClick\" href=\"/delhi-restaurants/gurgaon\">Gurgaon</a></div>]"
      ]
     },
     "execution_count": 27,
     "metadata": {},
     "output_type": "execute_result"
    }
   ],
   "source": [
    "loc=soup.find_all('div',class_='restnt-loc ellipsis')\n",
    "loc"
   ]
  },
  {
   "cell_type": "code",
   "execution_count": 30,
   "id": "5ee0c9c8",
   "metadata": {},
   "outputs": [
    {
     "data": {
      "text/plain": [
       "['Connaught Place, Central Delhi',\n",
       " '3CS Mall,Lajpat Nagar - 3, South Delhi',\n",
       " 'Pacific Mall,Tagore Garden, West Delhi',\n",
       " 'The Leela Ambience Convention Hotel,Shahdara, East Delhi',\n",
       " 'Gardens Galleria,Sector 38A, Noida',\n",
       " 'Hilton Garden Inn,Saket, South Delhi',\n",
       " 'Taurus Sarovar Portico,Mahipalpur, South Delhi',\n",
       " 'Indirapuram Habitat Centre,Indirapuram, Ghaziabad',\n",
       " 'Suncity Business Tower,Golf Course Road, Gurgaon']"
      ]
     },
     "execution_count": 30,
     "metadata": {},
     "output_type": "execute_result"
    }
   ],
   "source": [
    "location=[]\n",
    "for nm in loc:\n",
    "    nm=nm.get_text().replace('\\n',' ')\n",
    "    nm=nm.strip()\n",
    "    location.append(nm)\n",
    "location"
   ]
  },
  {
   "cell_type": "code",
   "execution_count": 31,
   "id": "abb7ef30",
   "metadata": {},
   "outputs": [
    {
     "data": {
      "text/plain": [
       "[<div class=\"restnt-rating rating-4\">4.1</div>,\n",
       " <div class=\"restnt-rating rating-4\">3.9</div>,\n",
       " <div class=\"restnt-rating rating-4\">3.9</div>,\n",
       " <div class=\"restnt-rating rating-4\">4.3</div>,\n",
       " <div class=\"restnt-rating rating-4\">4</div>,\n",
       " <div class=\"restnt-rating rating-4\">3.9</div>,\n",
       " <div class=\"restnt-rating rating-4\">3.7</div>,\n",
       " <div class=\"restnt-rating rating-4\">3.8</div>,\n",
       " <div class=\"restnt-rating rating-4\">4.3</div>]"
      ]
     },
     "execution_count": 31,
     "metadata": {},
     "output_type": "execute_result"
    }
   ],
   "source": [
    "rat=soup.find_all('div',class_='restnt-rating rating-4')\n",
    "rat"
   ]
  },
  {
   "cell_type": "code",
   "execution_count": 33,
   "id": "504c6415",
   "metadata": {},
   "outputs": [
    {
     "data": {
      "text/plain": [
       "['4.1', '3.9', '3.9', '4.3', '4', '3.9', '3.7', '3.8', '4.3']"
      ]
     },
     "execution_count": 33,
     "metadata": {},
     "output_type": "execute_result"
    }
   ],
   "source": [
    "rating=[]\n",
    "for nm in rat:\n",
    "    nm=nm.get_text().replace('\\n',' ')\n",
    "    nm=nm.strip( )\n",
    "    rating.append(nm)\n",
    "rating"
   ]
  },
  {
   "cell_type": "code",
   "execution_count": 73,
   "id": "aca1b17f",
   "metadata": {},
   "outputs": [
    {
     "data": {
      "text/plain": [
       "['https://im1.dineout.co.in/images/uploads/restaurant/sharpen/8/k/b/p86792-16062953735fbe1f4d3fb7e.jpg?tr=tr:n-medium',\n",
       " 'https://im1.dineout.co.in/images/uploads/restaurant/sharpen/5/p/m/p59633-166088382462ff137009010.jpg?tr=tr:n-medium',\n",
       " 'https://im1.dineout.co.in/images/uploads/restaurant/sharpen/3/j/o/p38113-15959192065f1fcb666130c.jpg?tr=tr:n-medium',\n",
       " 'https://im1.dineout.co.in/images/uploads/restaurant/sharpen/4/p/m/p406-15438184745c04ccea491bc.jpg?tr=tr:n-medium',\n",
       " 'https://im1.dineout.co.in/images/uploads/restaurant/sharpen/7/p/k/p79307-16051787755fad1597f2bf9.jpg?tr=tr:n-medium',\n",
       " 'https://im1.dineout.co.in/images/uploads/restaurant/sharpen/2/v/t/p2687-1482477169585cce712b90f.jpg?tr=tr:n-medium',\n",
       " 'https://im1.dineout.co.in/images/uploads/restaurant/sharpen/5/v/f/p52501-16006856545f68865616659.jpg?tr=tr:n-medium',\n",
       " 'https://im1.dineout.co.in/images/uploads/restaurant/sharpen/3/n/o/p34822-15599107305cfa594a13c24.jpg?tr=tr:n-medium',\n",
       " 'https://im1.dineout.co.in/images/uploads/restaurant/sharpen/5/y/f/p549-165000147262590640c0afc.jpg?tr=tr:n-medium']"
      ]
     },
     "execution_count": 73,
     "metadata": {},
     "output_type": "execute_result"
    }
   ],
   "source": [
    "iurl= []\n",
    "a = soup.find_all(\"img\",class_=\"no-img\")\n",
    "for b in a:\n",
    "    #print(str(b['data-src']))\n",
    "    iurl.append(str(b['data-src']))\n",
    "    \n",
    "iurl"
   ]
  },
  {
   "cell_type": "code",
   "execution_count": 77,
   "id": "b458434e",
   "metadata": {},
   "outputs": [
    {
     "data": {
      "text/html": [
       "<style type=\"text/css\">\n",
       "</style>\n",
       "<table id=\"T_5961d_\">\n",
       "  <thead>\n",
       "    <tr>\n",
       "      <th class=\"col_heading level0 col0\" >Restaurant_name</th>\n",
       "      <th class=\"col_heading level0 col1\" >Cuisine</th>\n",
       "      <th class=\"col_heading level0 col2\" >Location</th>\n",
       "      <th class=\"col_heading level0 col3\" >Rating</th>\n",
       "      <th class=\"col_heading level0 col4\" >Image Url</th>\n",
       "    </tr>\n",
       "  </thead>\n",
       "  <tbody>\n",
       "    <tr>\n",
       "      <td id=\"T_5961d_row0_col0\" class=\"data row0 col0\" >Castle Barbeque</td>\n",
       "      <td id=\"T_5961d_row0_col1\" class=\"data row0 col1\" > Chinese, North Indian</td>\n",
       "      <td id=\"T_5961d_row0_col2\" class=\"data row0 col2\" >Connaught Place, Central Delhi</td>\n",
       "      <td id=\"T_5961d_row0_col3\" class=\"data row0 col3\" >4.1</td>\n",
       "      <td id=\"T_5961d_row0_col4\" class=\"data row0 col4\" >https://im1.dineout.co.in/images/uploads/restaurant/sharpen/8/k/b/p86792-16062953735fbe1f4d3fb7e.jpg?tr=tr:n-medium</td>\n",
       "    </tr>\n",
       "    <tr>\n",
       "      <td id=\"T_5961d_row1_col0\" class=\"data row1 col0\" >Jungle Jamboree</td>\n",
       "      <td id=\"T_5961d_row1_col1\" class=\"data row1 col1\" > North Indian, Asian, Italian</td>\n",
       "      <td id=\"T_5961d_row1_col2\" class=\"data row1 col2\" >3CS Mall,Lajpat Nagar - 3, South Delhi</td>\n",
       "      <td id=\"T_5961d_row1_col3\" class=\"data row1 col3\" >3.9</td>\n",
       "      <td id=\"T_5961d_row1_col4\" class=\"data row1 col4\" >https://im1.dineout.co.in/images/uploads/restaurant/sharpen/5/p/m/p59633-166088382462ff137009010.jpg?tr=tr:n-medium</td>\n",
       "    </tr>\n",
       "    <tr>\n",
       "      <td id=\"T_5961d_row2_col0\" class=\"data row2 col0\" >Castle Barbeque</td>\n",
       "      <td id=\"T_5961d_row2_col1\" class=\"data row2 col1\" > Chinese, North Indian</td>\n",
       "      <td id=\"T_5961d_row2_col2\" class=\"data row2 col2\" >Pacific Mall,Tagore Garden, West Delhi</td>\n",
       "      <td id=\"T_5961d_row2_col3\" class=\"data row2 col3\" >3.9</td>\n",
       "      <td id=\"T_5961d_row2_col4\" class=\"data row2 col4\" >https://im1.dineout.co.in/images/uploads/restaurant/sharpen/3/j/o/p38113-15959192065f1fcb666130c.jpg?tr=tr:n-medium</td>\n",
       "    </tr>\n",
       "    <tr>\n",
       "      <td id=\"T_5961d_row3_col0\" class=\"data row3 col0\" >Cafe Knosh</td>\n",
       "      <td id=\"T_5961d_row3_col1\" class=\"data row3 col1\" > Italian, Continental</td>\n",
       "      <td id=\"T_5961d_row3_col2\" class=\"data row3 col2\" >The Leela Ambience Convention Hotel,Shahdara, East Delhi</td>\n",
       "      <td id=\"T_5961d_row3_col3\" class=\"data row3 col3\" >4.3</td>\n",
       "      <td id=\"T_5961d_row3_col4\" class=\"data row3 col4\" >https://im1.dineout.co.in/images/uploads/restaurant/sharpen/4/p/m/p406-15438184745c04ccea491bc.jpg?tr=tr:n-medium</td>\n",
       "    </tr>\n",
       "    <tr>\n",
       "      <td id=\"T_5961d_row4_col0\" class=\"data row4 col0\" >The Barbeque Company</td>\n",
       "      <td id=\"T_5961d_row4_col1\" class=\"data row4 col1\" > North Indian, Chinese</td>\n",
       "      <td id=\"T_5961d_row4_col2\" class=\"data row4 col2\" >Gardens Galleria,Sector 38A, Noida</td>\n",
       "      <td id=\"T_5961d_row4_col3\" class=\"data row4 col3\" >4</td>\n",
       "      <td id=\"T_5961d_row4_col4\" class=\"data row4 col4\" >https://im1.dineout.co.in/images/uploads/restaurant/sharpen/7/p/k/p79307-16051787755fad1597f2bf9.jpg?tr=tr:n-medium</td>\n",
       "    </tr>\n",
       "    <tr>\n",
       "      <td id=\"T_5961d_row5_col0\" class=\"data row5 col0\" >India Grill</td>\n",
       "      <td id=\"T_5961d_row5_col1\" class=\"data row5 col1\" > North Indian, Italian</td>\n",
       "      <td id=\"T_5961d_row5_col2\" class=\"data row5 col2\" >Hilton Garden Inn,Saket, South Delhi</td>\n",
       "      <td id=\"T_5961d_row5_col3\" class=\"data row5 col3\" >3.9</td>\n",
       "      <td id=\"T_5961d_row5_col4\" class=\"data row5 col4\" >https://im1.dineout.co.in/images/uploads/restaurant/sharpen/2/v/t/p2687-1482477169585cce712b90f.jpg?tr=tr:n-medium</td>\n",
       "    </tr>\n",
       "    <tr>\n",
       "      <td id=\"T_5961d_row6_col0\" class=\"data row6 col0\" >Delhi Barbeque</td>\n",
       "      <td id=\"T_5961d_row6_col1\" class=\"data row6 col1\" > North Indian</td>\n",
       "      <td id=\"T_5961d_row6_col2\" class=\"data row6 col2\" >Taurus Sarovar Portico,Mahipalpur, South Delhi</td>\n",
       "      <td id=\"T_5961d_row6_col3\" class=\"data row6 col3\" >3.7</td>\n",
       "      <td id=\"T_5961d_row6_col4\" class=\"data row6 col4\" >https://im1.dineout.co.in/images/uploads/restaurant/sharpen/5/v/f/p52501-16006856545f68865616659.jpg?tr=tr:n-medium</td>\n",
       "    </tr>\n",
       "    <tr>\n",
       "      <td id=\"T_5961d_row7_col0\" class=\"data row7 col0\" >The Monarch - Bar Be Que Village</td>\n",
       "      <td id=\"T_5961d_row7_col1\" class=\"data row7 col1\" > North Indian</td>\n",
       "      <td id=\"T_5961d_row7_col2\" class=\"data row7 col2\" >Indirapuram Habitat Centre,Indirapuram, Ghaziabad</td>\n",
       "      <td id=\"T_5961d_row7_col3\" class=\"data row7 col3\" >3.8</td>\n",
       "      <td id=\"T_5961d_row7_col4\" class=\"data row7 col4\" >https://im1.dineout.co.in/images/uploads/restaurant/sharpen/3/n/o/p34822-15599107305cfa594a13c24.jpg?tr=tr:n-medium</td>\n",
       "    </tr>\n",
       "    <tr>\n",
       "      <td id=\"T_5961d_row8_col0\" class=\"data row8 col0\" >Indian Grill Room</td>\n",
       "      <td id=\"T_5961d_row8_col1\" class=\"data row8 col1\" > North Indian, Mughlai</td>\n",
       "      <td id=\"T_5961d_row8_col2\" class=\"data row8 col2\" >Suncity Business Tower,Golf Course Road, Gurgaon</td>\n",
       "      <td id=\"T_5961d_row8_col3\" class=\"data row8 col3\" >4.3</td>\n",
       "      <td id=\"T_5961d_row8_col4\" class=\"data row8 col4\" >https://im1.dineout.co.in/images/uploads/restaurant/sharpen/5/y/f/p549-165000147262590640c0afc.jpg?tr=tr:n-medium</td>\n",
       "    </tr>\n",
       "  </tbody>\n",
       "</table>\n"
      ],
      "text/plain": [
       "<pandas.io.formats.style.Styler at 0x21f699e9ee0>"
      ]
     },
     "execution_count": 77,
     "metadata": {},
     "output_type": "execute_result"
    }
   ],
   "source": [
    "df=pd.DataFrame({'Restaurant_name':name,'Cuisine':dish,'Location':location,'Rating':rating,'Image Url':iurl})\n",
    "df.style.hide_index()"
   ]
  }
 ],
 "metadata": {
  "kernelspec": {
   "display_name": "Python 3 (ipykernel)",
   "language": "python",
   "name": "python3"
  },
  "language_info": {
   "codemirror_mode": {
    "name": "ipython",
    "version": 3
   },
   "file_extension": ".py",
   "mimetype": "text/x-python",
   "name": "python",
   "nbconvert_exporter": "python",
   "pygments_lexer": "ipython3",
   "version": "3.9.7"
  }
 },
 "nbformat": 4,
 "nbformat_minor": 5
}
