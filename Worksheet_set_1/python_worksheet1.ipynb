{
 "cells": [
  {
   "cell_type": "markdown",
   "id": "8a5c93b3",
   "metadata": {},
   "source": [
    "Question 1- Factorial of a number."
   ]
  },
  {
   "cell_type": "code",
   "execution_count": 13,
   "id": "5a55462f",
   "metadata": {},
   "outputs": [],
   "source": [
    "def factorial(n):\n",
    "    if n==0:\n",
    "        return 1\n",
    "    elif n<0:\n",
    "        return(\"is not exist:\")\n",
    "    else:\n",
    "        return n*factorial(n-1)\n",
    "        "
   ]
  },
  {
   "cell_type": "code",
   "execution_count": 14,
   "id": "17926268",
   "metadata": {},
   "outputs": [
    {
     "name": "stdout",
     "output_type": "stream",
     "text": [
      "Enter a number:7\n",
      "Factorial of the number 7 is 5040\n"
     ]
    }
   ],
   "source": [
    "n=int(input(\"Enter a number:\"))\n",
    "print(\"Factorial of the number\",n,\"is\", factorial(n))"
   ]
  },
  {
   "cell_type": "markdown",
   "id": "b7723899",
   "metadata": {},
   "source": [
    "Question 2 Whether a number is prime or composite."
   ]
  },
  {
   "cell_type": "code",
   "execution_count": 27,
   "id": "861fe69b",
   "metadata": {},
   "outputs": [],
   "source": [
    "def prime_composite(num):\n",
    "    if num>1:\n",
    "        for i in range(2,num):\n",
    "            if (num%i)==0:\n",
    "                return(\"is a composite number\")\n",
    "                break\n",
    "            else:\n",
    "                return(\"is a PRIME number\")\n",
    "    elif num == 0 or 1:\n",
    "        return(\"is a neither prime NOR composite number\")\n",
    "    else:\n",
    "        return(\"is NOT a prime number it is a COMPOSITE number\")\n",
    "            \n"
   ]
  },
  {
   "cell_type": "code",
   "execution_count": 28,
   "id": "4619853a",
   "metadata": {},
   "outputs": [
    {
     "name": "stdout",
     "output_type": "stream",
     "text": [
      "Enter a number:6\n",
      "the number 6 is a composite number\n"
     ]
    }
   ],
   "source": [
    "num=int(input(\"Enter a number:\"))\n",
    "print(\"the number\",num,prime_composite(num))"
   ]
  },
  {
   "cell_type": "markdown",
   "id": "79d9487d",
   "metadata": {},
   "source": [
    "Question 3 Whether a given string is palindrome or not"
   ]
  },
  {
   "cell_type": "code",
   "execution_count": 37,
   "id": "194d86a3",
   "metadata": {},
   "outputs": [],
   "source": [
    "def palindrome(string):\n",
    "    \n",
    "    string=string.lower()\n",
    "    \n",
    "    rev_str=reversed(string)\n",
    "    \n",
    "    if list(string)==list(rev_str):\n",
    "            \n",
    "        return(\"is a palindrome\")\n",
    "    else:\n",
    "            \n",
    "        return(\"is not a palindrome\")\n"
   ]
  },
  {
   "cell_type": "code",
   "execution_count": 38,
   "id": "983fcb20",
   "metadata": {},
   "outputs": [
    {
     "name": "stdout",
     "output_type": "stream",
     "text": [
      "Enter the string to check if it is a palindrome:qw3wq\n",
      "the string is a palindrome\n"
     ]
    }
   ],
   "source": [
    "string=input(\"Enter the string to check if it is a palindrome:\")\n",
    "print(\"the string\",palindrome(string))\n",
    "\n"
   ]
  },
  {
   "cell_type": "markdown",
   "id": "1eaba1ca",
   "metadata": {},
   "source": [
    "Question 4 Get the third side of right angled triange from two given side "
   ]
  },
  {
   "cell_type": "code",
   "execution_count": 49,
   "id": "ffa5aa54",
   "metadata": {},
   "outputs": [],
   "source": [
    "import math\n",
    "def right_angle_triangle(a,b,c): # a=side1,b=side2,c=hypotenuse\n",
    "    \n",
    "    \n",
    "    if a==str(\"x\"):\n",
    "        return(\"a=\", math.sqrt(c**2 - b**2))\n",
    "        \n",
    "    elif b==str(\"x\"):\n",
    "        return(\"b=\",sqrt(c**2 - a**2))\n",
    "        \n",
    "    elif c==str(\"x\"):\n",
    "        return(\"c\",math.sqrt(a**2 + b**2))\n",
    "        \n",
    "        \n",
    "    else:\n",
    "        print(\"invalid\")\n",
    "    \n",
    "    "
   ]
  },
  {
   "cell_type": "code",
   "execution_count": 50,
   "id": "9a44de4e",
   "metadata": {},
   "outputs": [
    {
     "name": "stdout",
     "output_type": "stream",
     "text": [
      "('c', 10.295630140987)\n"
     ]
    }
   ],
   "source": [
    "print(right_angle_triangle( 5,9,\"x\"))"
   ]
  },
  {
   "cell_type": "markdown",
   "id": "77b5d16c",
   "metadata": {},
   "source": [
    "Question5 to print frequency of each of character present in a given string"
   ]
  },
  {
   "cell_type": "code",
   "execution_count": 72,
   "id": "0c0719e2",
   "metadata": {},
   "outputs": [],
   "source": [
    "def char_frequency(string):\n",
    "    str={}\n",
    "    for n in string:\n",
    "        keys=str.keys()\n",
    "        if n in keys:\n",
    "            str[n]+= 1\n",
    "        else:\n",
    "            str[n]=1\n",
    "    return str\n",
    "    \n",
    "    ###for n in string:\n",
    "       ## string[n]+=1\n",
    "    ###else:\n",
    "       ### string[n]=1\n",
    "        "
   ]
  },
  {
   "cell_type": "code",
   "execution_count": 73,
   "id": "1633bdd3",
   "metadata": {},
   "outputs": [
    {
     "name": "stdout",
     "output_type": "stream",
     "text": [
      "enter the string :google\n",
      "frequency of the string is {'g': 2, 'o': 2, 'l': 1, 'e': 1}\n"
     ]
    }
   ],
   "source": [
    "str = input(\"enter the string :\")\n",
    "print(\"frequency of the string is\", char_frequency(string))"
   ]
  },
  {
   "cell_type": "code",
   "execution_count": null,
   "id": "a1510ba6",
   "metadata": {},
   "outputs": [],
   "source": []
  }
 ],
 "metadata": {
  "kernelspec": {
   "display_name": "Python 3 (ipykernel)",
   "language": "python",
   "name": "python3"
  },
  "language_info": {
   "codemirror_mode": {
    "name": "ipython",
    "version": 3
   },
   "file_extension": ".py",
   "mimetype": "text/x-python",
   "name": "python",
   "nbconvert_exporter": "python",
   "pygments_lexer": "ipython3",
   "version": "3.9.7"
  }
 },
 "nbformat": 4,
 "nbformat_minor": 5
}
