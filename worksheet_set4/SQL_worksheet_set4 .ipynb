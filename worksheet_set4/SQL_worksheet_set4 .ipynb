{
 "cells": [
  {
   "cell_type": "code",
   "execution_count": 1,
   "id": "af17a158",
   "metadata": {},
   "outputs": [],
   "source": [
    "# Import module\n",
    "import sqlite3"
   ]
  },
  {
   "cell_type": "code",
   "execution_count": 2,
   "id": "9201f4ea",
   "metadata": {},
   "outputs": [],
   "source": [
    "# Connecting to sqlite\n",
    "conn = sqlite3.connect('stores1.db')"
   ]
  },
  {
   "cell_type": "code",
   "execution_count": 3,
   "id": "38b5fa83",
   "metadata": {},
   "outputs": [],
   "source": [
    "#declare cursor\n",
    "cursor= conn.cursor()"
   ]
  },
  {
   "cell_type": "code",
   "execution_count": 4,
   "id": "5091af1b",
   "metadata": {},
   "outputs": [],
   "source": [
    "# SQL command to create table and columns in stores database\n",
    "sql_command = \"\"\"CREATE TABLE Customers(\n",
    "CustomerNo INTEGER PRIMARY KEY,\n",
    "CustomerName VARCHAR(30),\n",
    "ContactLastName VARCHAR(15),\n",
    "ContactFirstName VARCHAR(15),\n",
    "Phone INTEGER(10),\n",
    "AddressLine1 VARCHAR(30),\n",
    "AddressLine2 VARCHAR(30),\n",
    "City VARCHAR(20),\n",
    "State VARCHAR(20),\n",
    "PostalCode INTEGER(6),\n",
    "Country CHAR(10),\n",
    "SalesRepEmployeeNumber INTEGER (30),\n",
    "CreditLimit INTEGER(10));\"\"\""
   ]
  },
  {
   "cell_type": "code",
   "execution_count": 5,
   "id": "0891c68b",
   "metadata": {},
   "outputs": [
    {
     "data": {
      "text/plain": [
       "<sqlite3.Cursor at 0x1f2ebe505e0>"
      ]
     },
     "execution_count": 5,
     "metadata": {},
     "output_type": "execute_result"
    }
   ],
   "source": [
    "# execute the statement\n",
    "cursor.execute(sql_command)"
   ]
  },
  {
   "cell_type": "code",
   "execution_count": 8,
   "id": "77c016ff",
   "metadata": {},
   "outputs": [
    {
     "data": {
      "text/plain": [
       "<sqlite3.Cursor at 0x1f2ebe505e0>"
      ]
     },
     "execution_count": 8,
     "metadata": {},
     "output_type": "execute_result"
    }
   ],
   "source": [
    " #SQL command to insert the data in the table\n",
    "sql_command = \"\"\"INSERT INTO Customers VALUES \n",
    "(1, \"John Edward\", \"Edward\", \"John\",  0000000000, \"Street No. 72\", \"A Block\", \"Las Vegas\", \"Nevada\", 89101, \"United States\", 101, 10000),\n",
    "\n",
    "(2, \"Nitin Juneja\", \"Juneja\", \"Nitin\",  1111111111, \"Street No. 7\", \"B Block\",  \"Nantes\", \"Loire Atlantique\", 44200, \"France\", 102, 12000),\n",
    "\n",
    "(3, \"Rick Wills\", \"Wills\", \"Rick\", 2222222222, \"Street No. 9\", \"D Block\", \"Stavern\", \"Norway\", 3290, \"Europe\", 103, 3000),\n",
    "\n",
    "(4, \"Joe Jacobs\", \"Jacobs\", \"Joe\", 3333333333, \"Street No. 1\",  \"C Block\", \"Seattle\", \"Washington\", 98101, \"United States\", 104, 5000),\n",
    "\n",
    "(5, \"Nick Jones\", \"Jones\", \"Nick\", 4444444444, \"Street No. 25\", \"E Block\", \"Berlin\",\"Berlin\", 06037, \"Germany\", 105, 20000),\n",
    "\n",
    "(6, \"Dennis Elliott\", \"Elliott\", \"Dennis\", 5555555555, \"Street No. 72\", \"D Block\", \"Las Vegas\", \"Nevada\", 89101, \"United States\", 106, 18000),\n",
    "\n",
    "(7, \"Mark Schulman\", \"Schulman\", \"Mark\", 6666666666,  \"Street No. 15\", \"A Block\", \"Stavern\", \"Norway\", 3290, \"Europe\", 107, 200000),\n",
    "\n",
    "(8, \"Neena Jacobs\", \"Jacobs\", \"Neena\", 7777777777, \"Street No. 20\", \"C Block\", \"Las Vegas\", \"Nevada\", 89101, \"United States\", 108, 70000),\n",
    "\n",
    "(9,  \"Don Jones\", \"Jones\", \"Don\", 8888888888, \"Street No. 2\", \"E Block\", \"Nantes\", \"Loire Atlantique\", 44200, \"France\", 109, 40000),\n",
    "\n",
    "(10, \"Maria Elliott\", \"Elliott\", \"Maria\", 9999999999, \"Street No. 55\", \"N Block\", \"Stavern\", \"Norway\", 3290, \"Europe\", 110, 14000),\n",
    "\n",
    "(11, \"Ed Gagliardi\", \"Gagliardi\", \"Ed\", 9125111111, \"Street No. 6\", \"F Block\", \"Seattle\", \"Washington\", 98101, \"United States\", 111, 50000),\n",
    "\n",
    "(12, \"Derek Hilland\", \"Hilland\", \"Derek\", 7252525252, \"Street No. 77\", \"A Block\", \"Berlin\", \"Berlin\", 06037, \"Germany\", 112, 150000),\n",
    "\n",
    "(13, \"Tanya Aldrich\", \"Aldrich\", \"Tanya\", 8899995522, \"Street No. 82\", \"M Block\", \"Nantes\", \"Loire-Atlantique\", 44200, \"France\", 113, 250000);\"\"\"\n",
    "\n",
    "cursor.execute(sql_command)\n"
   ]
  },
  {
   "cell_type": "code",
   "execution_count": 9,
   "id": "2c7bbeed",
   "metadata": {},
   "outputs": [
    {
     "data": {
      "text/plain": [
       "<sqlite3.Cursor at 0x1f2ebe505e0>"
      ]
     },
     "execution_count": 9,
     "metadata": {},
     "output_type": "execute_result"
    }
   ],
   "source": [
    "# SQL command to create table and columns in stores database\n",
    "sql_command = \"\"\"CREATE TABLE Orders(\n",
    "orderNo INTEGER PRIMARY KEY,\n",
    "orderdate DATE(10),\n",
    "requireddate DATE(10),\n",
    "shippeddate DATE(10),\n",
    "status CHAR(10),\n",
    "comments VARCHAR(30),\n",
    "CustomerNo INTEGER (15),\n",
    "FOREIGN KEY (CustomerNo) REFERENCES Customers (CustomerNo));\"\"\"\n",
    "\n",
    "# execute the statement\n",
    "cursor.execute(sql_command)"
   ]
  },
  {
   "cell_type": "code",
   "execution_count": 10,
   "id": "d23f3d1f",
   "metadata": {},
   "outputs": [],
   "source": [
    "conn.commit()"
   ]
  },
  {
   "cell_type": "code",
   "execution_count": 12,
   "id": "4a53b553",
   "metadata": {},
   "outputs": [
    {
     "data": {
      "text/plain": [
       "<sqlite3.Cursor at 0x1f2ebe505e0>"
      ]
     },
     "execution_count": 12,
     "metadata": {},
     "output_type": "execute_result"
    }
   ],
   "source": [
    " #SQL command to insert the data in the table\n",
    "sql_command = \"\"\"INSERT INTO Orders VALUES \n",
    "(1, \"2022-10-10\", \"2022-10-10\", \"2022-10-10\", \"Shipped\", \"Good\", 1),\n",
    "(2, \"2022-10-10\", \"2022-10-10\", \"2022-10-10\", \"Dispatched\", \"Nice\", 2),\n",
    "(3, \"2012-10-10\", \"2012-10-11\", \"2012-10-11\", \"In Transit\", \"Not Good\", 3),\n",
    "(4, \"2004-10-19\", \"2004-10-19\", \"2004-10-19\", \"Delivered\", \"Awesome\", 4),\n",
    "(5, \"2022-10-10\", \"2022-10-11\", \"2022-10-11\", \"Dispatched\", \"Perfect\", 5),\n",
    "(6, \"2012-10-12\", \"2012-10-15\", \"2012-10-15\", \"In Transit\", \"Poor\",  6),\n",
    "(7, \"2022-10-11\", \"2022-10-11\", \"2022-10-11\", \"Shipped\", \"Defective\", 7),\n",
    "(8, \"2002-10-10\", \"2002-10-12\", \"2002-10-11\", \"Disputed\", \"Failure\", 8),\n",
    "(9, \"2022-10-11\", \"2022-10-11\", \"2022-10-11\", \"Dispatched\", \"Amazing\", 9),\n",
    "(10, \"2002-10-11\", \"2002-10-13\", \"2002-10-13\", \"In Transit\", \"Bad\", 10),\n",
    "(11, \"2022-10-11\", \"2022-10-12\", \"2022-10-12\", \"Disputed\", \"Very Bad\", 11),\n",
    "(12, \"2002-10-10\", \"2022-10-13\", \"2022-10-12\", \"Dispatched\", \"Good Taste\", 12),\n",
    "(13, \"2022-10-11\", \"2022-10-13\", \"2022-10-12\", \"Delivered\", \"Fast\", 13);\"\"\"\n",
    "\n",
    "# execute the statement\n",
    "cursor.execute(sql_command)"
   ]
  },
  {
   "cell_type": "code",
   "execution_count": 13,
   "id": "4e6960b4",
   "metadata": {},
   "outputs": [],
   "source": [
    "# SQL command to create table and columns in stores database\n",
    "sql_command = \"\"\"CREATE TABLE ProductLines(\n",
    "ProductLine VARCHAR PRIMARY KEY,\n",
    "textDescription VARCHAR(30));\"\"\"\n",
    "# execute the statement\n",
    "cursor.execute(sql_command)\n",
    "\n",
    "conn.commit()"
   ]
  },
  {
   "cell_type": "code",
   "execution_count": 14,
   "id": "83bc077a",
   "metadata": {},
   "outputs": [],
   "source": [
    "sql_command = \"\"\"INSERT INTO ProductLines VALUES \n",
    "(\"Growth + Horlicks\", \"Horlicks Growth+ provides all the key type II nutrients known as growth nutrients (Protein, Potassium, Phosphorus, Zinc and Sodium) which are known to support growth.\"),\n",
    "(\"Bournvita Health Drink\", \"Health food drink with inner strength formula which has nutrients that support - Immune system (8 immunity nutrients), Strong bones (Vitamin D, Phosphorous), Strong muscles (Protein, Vitamin D) and Active Brain (Iron, Iodine, Vitamin B2, Vitamin B12)\"),\n",
    "(\"Washing Powder by Unilever\", \"Surf excel offers outstanding cleanliness on a wide range of stains, and with multiple product offerings, it is suited for both bucket and machine wash environments. \"),\n",
    "(\"Full Cream Milk\", \"It is a cooperative brand managed by Gujarat Cooperative Milk Marketing Federation Ltd. (GCMMF), which today is controlled jointly by 36 lakh milk producers in Gujarat and the apex body of 13 district milk unions, spread across 13,000 villages of Gujarat.\"),\n",
    "(\"Tonned Milk\", \"A perfect blend of good health and wholesome taste, Mother Dairy Toned Milk (Polypack) is an ideal choice for people who want nutritionally balanced diet to stay fit. Healthy and nutritious, this low-fat milk can be used in making beverages and milkshakes.\"),\n",
    "(\"American brand of toothpaste\", \"Pepsodent toothpaste was introduced in the United States in 1915 by the Pepsodent Company of Chicago. The original formula for the paste contained pepsin, a digestive agent designed to break down and digest food deposits on the teeth, hence the brand and company name.\");\"\"\"\n",
    "\n",
    "# execute the statement\n",
    "cursor.execute(sql_command)\n",
    "\n",
    "conn.commit()"
   ]
  },
  {
   "cell_type": "code",
   "execution_count": 15,
   "id": "0cfb2bc5",
   "metadata": {},
   "outputs": [],
   "source": [
    "# SQL command to create table and columns in stores database\n",
    "sql_command = \"\"\"CREATE TABLE Products(\n",
    "ProductCode INTEGER PRIMARY KEY,\n",
    "ProductName VARCHAR(20),\n",
    "ProductLine VARCHAR(15),\n",
    "ProductScale VARCHAR(10),\n",
    "ProductVendor VARCHAR(10),\n",
    "ProductDescription VARCHAR(30),\n",
    "QuantityInStock VARCHAR(10),\n",
    "BuyPrice INTEGER(10),\n",
    "MSRP INTEGER(10),\n",
    "FOREIGN KEY (ProductLine) REFERENCES ProductLines (ProductLine));\"\"\"\n",
    "\n",
    "# execute the statement\n",
    "cursor.execute(sql_command)\n",
    "\n",
    "conn.commit()"
   ]
  },
  {
   "cell_type": "code",
   "execution_count": 16,
   "id": "db50f1d0",
   "metadata": {},
   "outputs": [],
   "source": [
    "sql_command = \"\"\"INSERT INTO Products VALUES \n",
    "(1001, \"Horlicks Health Drinks\", \"Growth + Horlicks\", \"6 out of 10 stars\", \"GlaxoSmithKline\",\"Sweet malted milk hot drink powder\", \"20 Kg\", 420, 450),\n",
    "(1002, \"Bournvita Health Drinks\", \"Bournvita Health Drink\", \"5 out of 10 stars\", \"Ayurveda Bazar Private Limited\", \"Malted chocolate drink mix\", \"15 Kg\", 400, 420),\n",
    "(1003, \"Surf Excel Detergent\", \"Washing Powder by Unilever\", \"4.0 out of 5 stars\",  \"Hindustan Unilever Limited (HUL) and Unilever Sri Lanka\", \"First detergent powder of India and Pakistan\", \"30 Kg\", 300, 320),\n",
    "(1004, \"Amul Fresh Milk\", \"Full Cream Milk\", \"4.3 out of 5 stars\", \"Gujarat Govt. Cooperative Society \", \"Hygienic liquid milk\", \"50 ltr\", 50, 50),\n",
    "(1005, \"Mother Dairy Fresh Milk\", \"Tonned Milk\", \"4.3 out of 5 stars\", \"Indian food company\", \"Wholesome and healthy\", \"50 ltr\", 48, 48),\n",
    "(1006, \"Pepsodent Toothpaste\", \"American brand of toothpaste\",\"4.5 out of 5 stars\",  \"American brand\", \"American brand of toothpaste with the minty flavor derived from sassafras\", \"1000 gms\", 95, 100);\"\"\"\n",
    "\n",
    "# execute the statement\n",
    "cursor.execute(sql_command)\n",
    "\n",
    "conn.commit()"
   ]
  },
  {
   "cell_type": "code",
   "execution_count": 17,
   "id": "8757e15f",
   "metadata": {},
   "outputs": [],
   "source": [
    "# SQL command to create table and columns in stores database\n",
    "sql_command = \"\"\"CREATE TABLE OrderDetails(\n",
    "orderNo INTEGER PRIMARY KEY,\n",
    "ProductCode INTEGER (10),\n",
    "QuantityOrdered VARCHAR(15),\n",
    "PriceEach INTEGER(15),\n",
    "OrderLineNumber INTEGER(10),\n",
    "FOREIGN KEY (orderNo) REFERENCES Orders (orderNo),\n",
    "FOREIGN KEY (ProductCode) REFERENCES Products (ProductCode));\"\"\"\n",
    "\n",
    "# execute the statement\n",
    "cursor.execute(sql_command)\n",
    "\n",
    "conn.commit()"
   ]
  },
  {
   "cell_type": "code",
   "execution_count": 18,
   "id": "10a04052",
   "metadata": {},
   "outputs": [],
   "source": [
    "# SQL command to insert the data in the table\n",
    "sql_command = \"\"\"INSERT INTO OrderDetails VALUES \n",
    "(1, 1001, \"6\", 400, \"Growth + Horlicks\"),\n",
    "(2, 1002, \"5\", 300, \"Bournvita Health Drink\"),\n",
    "(3, 1003, \"10\", 95, \"Washing Powder by Unilever\"),\n",
    "(4, 1004, \"20\", 50, \"Full Cream Milk\"),\n",
    "(5, 1005, \"30\", 48, \"Tonned Milk\"),\n",
    "(6, 1006, \"7\", 95, \"American brand of toothpaste\");\"\"\"\n",
    "\n",
    "# execute the statement\n",
    "cursor.execute(sql_command)\n",
    "\n",
    "conn.commit()"
   ]
  },
  {
   "cell_type": "code",
   "execution_count": 19,
   "id": "19d935d5",
   "metadata": {},
   "outputs": [],
   "source": [
    "# SQL command to create table and columns in stores database\n",
    "sql_command = \"\"\"CREATE TABLE Employees(\n",
    "SalesRepEmployeeNumber INTEGER PRIMARY KEY,\n",
    "LastName VARCHAR(15),\n",
    "FirstName VARCHAR(15),\n",
    "extension INTEGER(2),\n",
    "email VARCHAR(30),\n",
    "OfficeCode INTEGER(5),\n",
    "reportsTo CHAR(20),\n",
    "JobTitle CHAR(20),\n",
    "FOREIGN KEY (SalesRepEmployeeNumber) REFERENCES Customers (SalesRepEmployeeNumber));\"\"\"\n",
    "\n",
    "# execute the statement\n",
    "cursor.execute(sql_command)\n",
    "\n",
    "conn.commit()"
   ]
  },
  {
   "cell_type": "code",
   "execution_count": 20,
   "id": "9c1e886d",
   "metadata": {},
   "outputs": [],
   "source": [
    "# SQL command to insert the data in the table\n",
    "sql_command = \"\"\"INSERT INTO Employees VALUES \n",
    "(101, \"Bluestein\", \"Michael\", 01, \"Michael@gmail.com\", 10000, \"Manager\", \"Customer Service Representative\"),\n",
    "(102, \"Dutta\", \"Tina\", 02, \"Tina@gmail.com\", 10001, \"Manager\", \"Cashier\"),\n",
    "(103, \"Kapoor\", \"Meesha\", 03, \"Meesha@gmail.com\", 10002, \"Manager\", \"Sales Associate\"),\n",
    "(104, \"Pilson\", \"Jeff\", 04, \"Jeff@gmail.com\", 10003, \"Manager\", \"Cashier\"),\n",
    "(105, \"Bluestein\", \"Michael\", 05, \"Michael@gmail.com\", 10004, \"Sr. Manager\", \"Sales Associate\"),\n",
    "(106, \"Frazier\", \"Chris \", 06, \"Chris@gmail.com\", 10005, \"Manager\", \"Sr. Manager\");\"\"\"\n",
    "\n",
    "# execute the statement\n",
    "cursor.execute(sql_command)\n",
    "\n",
    "conn.commit()"
   ]
  },
  {
   "cell_type": "code",
   "execution_count": 21,
   "id": "fe5fd9d5",
   "metadata": {},
   "outputs": [],
   "source": [
    "# SQL command to create table and columns in stores database\n",
    "sql_command = \"\"\"CREATE TABLE Offices(\n",
    "OfficeCode INTEGER PRIMARY KEY,\n",
    "City CHAR(30),\n",
    "Phone INTEGER(10),\n",
    "AddressLine1 VARCHAR(30),\n",
    "AddressLine2 VARCHAR(30),\n",
    "State CHAR(20),\n",
    "Country CHAR(10),\n",
    "PostalCode INTEGER(6),\n",
    "territory CHAR (15),\n",
    "FOREIGN KEY (OfficeCode) REFERENCES Employees (OfficeCode));\"\"\"\n",
    "\n",
    "# execute the statement\n",
    "cursor.execute(sql_command)\n",
    "\n",
    "conn.commit()"
   ]
  },
  {
   "cell_type": "code",
   "execution_count": 22,
   "id": "ca9cf1d9",
   "metadata": {},
   "outputs": [],
   "source": [
    "# SQL command to insert the data in the table\n",
    "sql_command = \"\"\"INSERT INTO Offices VALUES \n",
    "(10000, \"Las Vegas\", 8585858585, \"Street No 1\", \"A Block\", \"Nevada\", \"United States\",110002, \"Las Vegas Territory\"),\n",
    "(10001, \"Nantes\", 9988998899, \"Street No 2\", \"D Block\", \"Loire Atlantique\", \"France\", 110092, \"Overseas Territories\"),\n",
    "(10002, \"Stavern\", 7575959585, \"Street No 3\", \"B Block\", \"Norway\", \"Europe\", 110036, \"Mainland Territory\"),\n",
    "(10003, \"Seattle\", 7788997789, \"Street No 4\", \"A Block\", \"Washington\", \"United States\", 110075, \"Oregon Territory\"),\n",
    "(10004, \"Berlin\", 9080975065, \"Street No 5\", \"B Block\", \"Berlin\", \"Germany\", 110026, \"East German Territory\");\"\"\"\n",
    "\n",
    "# execute the statement\n",
    "cursor.execute(sql_command)\n",
    "\n",
    "conn.commit()"
   ]
  },
  {
   "cell_type": "code",
   "execution_count": 23,
   "id": "b5ee6d09",
   "metadata": {},
   "outputs": [],
   "source": [
    "# SQL command to create table and columns in stores database\n",
    "sql_command = \"\"\"CREATE TABLE Payment(\n",
    "CustomerNo INTEGER PRIMARY KEY,\n",
    "ChequeNo VARCHAR (6) NOT NULL UNIQUE,\n",
    "PaymentDate DATE(10),\n",
    "Amount INTEGER(15),\n",
    "FOREIGN KEY (CustomerNo) REFERENCES Customers (CustomerNo));\"\"\"\n",
    "\n",
    "# execute the statement\n",
    "cursor.execute(sql_command)\n",
    "\n",
    "conn.commit()"
   ]
  },
  {
   "cell_type": "code",
   "execution_count": 24,
   "id": "61ab3f89",
   "metadata": {},
   "outputs": [
    {
     "data": {
      "text/plain": [
       "<sqlite3.Cursor at 0x1f2ebe505e0>"
      ]
     },
     "execution_count": 24,
     "metadata": {},
     "output_type": "execute_result"
    }
   ],
   "source": [
    "# SQL command to insert the data in the table\n",
    "sql_command = \"\"\"INSERT INTO Payment VALUES \n",
    "(1, \"H00025\", \"2002-10-10\", 10000),\n",
    "(2, \"S56854\", \"2004-10-19\", 30000),\n",
    "(3, \"B56584\", \"2002-10-11\", 55000),\n",
    "(4, \"H65544\", \"2004-10-19\", 25000),\n",
    "(5, \"S00054\", \"2012-10-12\", 80000);\"\"\"\n",
    "\n",
    "# execute the statement\n",
    "cursor.execute(sql_command)"
   ]
  },
  {
   "cell_type": "code",
   "execution_count": 25,
   "id": "10b1bbaa",
   "metadata": {},
   "outputs": [],
   "source": [
    "conn.commit()"
   ]
  },
  {
   "cell_type": "markdown",
   "id": "2c267ee9",
   "metadata": {},
   "source": [
    "# 1. Write a SQL query to show average number of orders shipped in a day (use Orders table)."
   ]
  },
  {
   "cell_type": "code",
   "execution_count": 26,
   "id": "93bfe1d3",
   "metadata": {},
   "outputs": [
    {
     "name": "stdout",
     "output_type": "stream",
     "text": [
      "('2004-10-19', 20.0)\n",
      "('2012-10-11', 10.0)\n",
      "('2012-10-15', 7.0)\n",
      "('2022-10-10', 5.5)\n",
      "('2022-10-11', 30.0)\n"
     ]
    }
   ],
   "source": [
    "sql_command = \"\"\"SELECT date(shippeddate), AVG(QuantityOrdered) AS num_orders \n",
    "FROM Orders, OrderDetails \n",
    "WHERE OrderDetails.orderNo = Orders.orderNo \n",
    "GROUP BY date(shippeddate);\"\"\"\n",
    "select= cursor.execute(sql_command)\n",
    "for i in select:\n",
    "    print(i)"
   ]
  },
  {
   "cell_type": "markdown",
   "id": "ed0419c0",
   "metadata": {},
   "source": [
    "# 2. Write a SQL query to show average number of orders placed in a day"
   ]
  },
  {
   "cell_type": "code",
   "execution_count": 27,
   "id": "151cea95",
   "metadata": {},
   "outputs": [
    {
     "name": "stdout",
     "output_type": "stream",
     "text": [
      "('2004-10-19', 20.0)\n",
      "('2012-10-10', 10.0)\n",
      "('2012-10-12', 7.0)\n",
      "('2022-10-10', 13.666666666666666)\n"
     ]
    }
   ],
   "source": [
    "sql_command = \"\"\"SELECT date(orderdate), AVG(QuantityOrdered) \n",
    "FROM Orders, OrderDetails \n",
    "WHERE OrderDetails.orderNo = Orders.orderNo \n",
    "GROUP BY date(orderdate);\"\"\"\n",
    "select= cursor.execute(sql_command)\n",
    "for i in select:\n",
    "    print(i)"
   ]
  },
  {
   "cell_type": "markdown",
   "id": "ee09435d",
   "metadata": {},
   "source": [
    "# 3. Write a SQL query to show the product name with minimum MSRP (use Products table)\n"
   ]
  },
  {
   "cell_type": "code",
   "execution_count": 28,
   "id": "7182d988",
   "metadata": {},
   "outputs": [
    {
     "name": "stdout",
     "output_type": "stream",
     "text": [
      "('Mother Dairy Fresh Milk', 48)\n",
      "('Amul Fresh Milk', 50)\n",
      "('Pepsodent Toothpaste', 100)\n",
      "('Surf Excel Detergent', 320)\n",
      "('Bournvita Health Drinks', 420)\n",
      "('Horlicks Health Drinks', 450)\n"
     ]
    }
   ],
   "source": [
    "sql_command = \"\"\"SELECT  ProductName, MIN(MSRP) FROM Products GROUP BY MSRP;\"\"\"\n",
    "select= cursor.execute(sql_command)\n",
    "for i in select:\n",
    "    print(i)"
   ]
  },
  {
   "cell_type": "markdown",
   "id": "9cca2269",
   "metadata": {},
   "source": [
    "# 4. Write a SQL query to show the product name with maximum value of stock Quantity.\n"
   ]
  },
  {
   "cell_type": "code",
   "execution_count": 30,
   "id": "89096599",
   "metadata": {},
   "outputs": [
    {
     "name": "stdout",
     "output_type": "stream",
     "text": [
      "('Pepsodent Toothpaste', '1000 gms')\n",
      "('Bournvita Health Drinks', '15 Kg')\n",
      "('Horlicks Health Drinks', '20 Kg')\n",
      "('Surf Excel Detergent', '30 Kg')\n",
      "('Amul Fresh Milk', '50 ltr')\n"
     ]
    }
   ],
   "source": [
    "sql_command = \"\"\"SELECT  ProductName, MAX(QuantityInStock) FROM Products GROUP BY QuantityInStock;\"\"\"\n",
    "select= cursor.execute(sql_command)\n",
    "for i in select:\n",
    "    print(i)"
   ]
  },
  {
   "cell_type": "markdown",
   "id": "e061ec77",
   "metadata": {},
   "source": [
    "# 5. Write a query to show the most ordered product Name (the product with maximum number of orders).\n"
   ]
  },
  {
   "cell_type": "code",
   "execution_count": 31,
   "id": "9f9ddbcf",
   "metadata": {},
   "outputs": [
    {
     "name": "stdout",
     "output_type": "stream",
     "text": [
      "('Mother Dairy Fresh Milk', 30)\n",
      "('Amul Fresh Milk', 20)\n",
      "('Surf Excel Detergent', 10)\n",
      "('Pepsodent Toothpaste', 7)\n",
      "('Horlicks Health Drinks', 6)\n",
      "('Bournvita Health Drinks', 5)\n"
     ]
    }
   ],
   "source": [
    "sql_command = \"\"\"SELECT  Products.ProductName, SUM(OrderDetails.QuantityOrdered) \n",
    "FROM OrderDetails\n",
    "INNER JOIN  Products\n",
    "ON Products.ProductCode= OrderDetails.ProductCode\n",
    "GROUP BY OrderDetails.QuantityOrdered\n",
    "ORDER BY SUM(OrderDetails.QuantityOrdered) DESC;\"\"\"\n",
    "select= cursor.execute(sql_command)\n",
    "for i in select:\n",
    "    print(i)"
   ]
  },
  {
   "cell_type": "markdown",
   "id": "2aedd521",
   "metadata": {},
   "source": [
    "# 6. Write a SQL query to show the highest paying customer Name.\n"
   ]
  },
  {
   "cell_type": "code",
   "execution_count": 39,
   "id": "5cdb3d53",
   "metadata": {},
   "outputs": [
    {
     "name": "stdout",
     "output_type": "stream",
     "text": [
      "('Nick Jones', 80000)\n",
      "('Rick Wills', 55000)\n",
      "('Nitin Juneja', 30000)\n",
      "('Joe Jacobs', 25000)\n",
      "('John Edward', 10000)\n"
     ]
    }
   ],
   "source": [
    "sql_command = \"\"\"SELECT CustomerName , MAX(Amount) AS Amount\n",
    "FROM Customers, Payment\n",
    "WHERE Customers.CustomerNo= Payment.CustomerNo\n",
    "GROUP BY CustomerName\n",
    "ORDER BY MAX(Amount) DESC;\"\"\"\n",
    "select= cursor.execute(sql_command)\n",
    "for i in select:\n",
    "    print(i)"
   ]
  },
  {
   "cell_type": "markdown",
   "id": "c122aaa9",
   "metadata": {},
   "source": [
    "# 7. Write a SQL query to show cutomerNumber, customerName of all the customers who are from Melbourne city.\n"
   ]
  },
  {
   "cell_type": "code",
   "execution_count": 41,
   "id": "07fa8e37",
   "metadata": {},
   "outputs": [
    {
     "name": "stdout",
     "output_type": "stream",
     "text": [
      "(14, 'James Schulman')\n"
     ]
    }
   ],
   "source": [
    "sql_command = \"\"\"SELECT  CustomerNo, CustomerName FROM Customers \n",
    "WHERE City = \"Melbourne\";\"\"\"\n",
    "select= cursor.execute(sql_command)\n",
    "for i in select:\n",
    "    print(i)"
   ]
  },
  {
   "cell_type": "markdown",
   "id": "743b2ff0",
   "metadata": {},
   "source": [
    "# 8. Write a SQL query to show name of all the customers whose name start with “N”.\n"
   ]
  },
  {
   "cell_type": "code",
   "execution_count": 42,
   "id": "b590b2e4",
   "metadata": {},
   "outputs": [
    {
     "name": "stdout",
     "output_type": "stream",
     "text": [
      "('Nitin Juneja',)\n",
      "('Nick Jones',)\n",
      "('Neena Jacobs',)\n"
     ]
    }
   ],
   "source": [
    "sql_command = \"\"\"SELECT CustomerName FROM Customers \n",
    "WHERE CustomerName LIKE \"N%\";\"\"\"\n",
    "select= cursor.execute(sql_command)\n",
    "for i in select:\n",
    "    print(i)"
   ]
  },
  {
   "cell_type": "markdown",
   "id": "43deaa96",
   "metadata": {},
   "source": [
    "# 9. Write a SQL query to show name of all the customers whose phone start with ‘7’ and are from city ‘Las Vegas’.\n"
   ]
  },
  {
   "cell_type": "code",
   "execution_count": 43,
   "id": "8581ebca",
   "metadata": {},
   "outputs": [
    {
     "name": "stdout",
     "output_type": "stream",
     "text": [
      "('Neena Jacobs', 7777777777, 'Las Vegas')\n"
     ]
    }
   ],
   "source": [
    "sql_command = \"\"\"SELECT CustomerName, Phone, City FROM Customers \n",
    "WHERE Phone LIKE \"7%\" and City = \"Las Vegas\";\"\"\"\n",
    "select= cursor.execute(sql_command)\n",
    "for i in select:\n",
    "    print(i)"
   ]
  },
  {
   "cell_type": "markdown",
   "id": "d971732f",
   "metadata": {},
   "source": [
    "# 10. Write a SQL query to show name of all the customers whose creditLimit < 1000 and city is either “Las Vegas” or ”Nantes” or “Stavern”.\n"
   ]
  },
  {
   "cell_type": "code",
   "execution_count": 44,
   "id": "20c22ea3",
   "metadata": {},
   "outputs": [
    {
     "name": "stdout",
     "output_type": "stream",
     "text": [
      "('Nitin Juneja', 12000, 'Nantes')\n",
      "('Rick Wills', 3000, 'Stavern')\n",
      "('Mark Schulman', 200000, 'Stavern')\n",
      "('Don Jones', 40000, 'Nantes')\n",
      "('Maria Elliott', 14000, 'Stavern')\n",
      "('Tanya Aldrich', 250000, 'Nantes')\n"
     ]
    }
   ],
   "source": [
    "sql_command = \"\"\"SELECT CustomerName, CreditLimit, City FROM Customers \n",
    "WHERE CreditLimit < 1000 AND City =\"Las Vegas\" OR City =\"Nantes\" OR City = \"Stavern\";\"\"\"\n",
    "select= cursor.execute(sql_command)\n",
    "for i in select:\n",
    "    print(i)"
   ]
  },
  {
   "cell_type": "markdown",
   "id": "77b7e2bb",
   "metadata": {},
   "source": [
    "# 11. Write a SQL query to show all the orderNumber in which quantity ordered <10.\n"
   ]
  },
  {
   "cell_type": "code",
   "execution_count": 46,
   "id": "24c37841",
   "metadata": {},
   "outputs": [],
   "source": [
    "sql_command = \"\"\"SELECT orderNo, QuantityOrdered FROM OrderDetails WHERE QuantityOrdered < 10;\"\"\"\n",
    "select= cursor.execute(sql_command)\n",
    "for i in select:\n",
    "    print(i)"
   ]
  },
  {
   "cell_type": "markdown",
   "id": "ddbb341f",
   "metadata": {},
   "source": [
    "# 12. Write a SQL query to show all the orderNumber whose customer Name start with letter ‘N’.\n"
   ]
  },
  {
   "cell_type": "code",
   "execution_count": 47,
   "id": "67372432",
   "metadata": {},
   "outputs": [
    {
     "name": "stdout",
     "output_type": "stream",
     "text": [
      "(2, 'Nitin Juneja')\n",
      "(5, 'Nick Jones')\n",
      "(8, 'Neena Jacobs')\n"
     ]
    }
   ],
   "source": [
    "sql_command = \"\"\"SELECT Orders.orderNo, Customers.CustomerName FROM Orders, Customers \n",
    "ON Orders.CustomerNo =Customers.CustomerNo\n",
    "WHERE Customers.CustomerName LIKE \"N%\" ;\"\"\"\n",
    "select= cursor.execute(sql_command)\n",
    "for i in select:\n",
    "    print(i)"
   ]
  },
  {
   "cell_type": "markdown",
   "id": "ecd8dc38",
   "metadata": {},
   "source": [
    "# 13. Write a SQL query to show all the customerName whose orders are “Disputed” in status.\n"
   ]
  },
  {
   "cell_type": "code",
   "execution_count": 49,
   "id": "561c01ff",
   "metadata": {},
   "outputs": [
    {
     "name": "stdout",
     "output_type": "stream",
     "text": [
      "('Neena Jacobs', 'Disputed')\n",
      "('Ed Gagliardi', 'Disputed')\n"
     ]
    }
   ],
   "source": [
    "sql_command = \"\"\"SELECT CustomerName,  status \n",
    "FROM Customers, Orders \n",
    "ON Orders.CustomerNo =Customers.CustomerNo\n",
    "WHERE status= \"Disputed\";\"\"\"\n",
    "select= cursor.execute(sql_command)\n",
    "for i in select:\n",
    "    print(i)"
   ]
  },
  {
   "cell_type": "markdown",
   "id": "8c466167",
   "metadata": {},
   "source": [
    "# 14. Write a SQL query to show the customerName who made payment through cheque with checkNumber starting with H and made payment on “2004-10-19”.\n"
   ]
  },
  {
   "cell_type": "code",
   "execution_count": 50,
   "id": "fe230d36",
   "metadata": {
    "scrolled": true
   },
   "outputs": [
    {
     "name": "stdout",
     "output_type": "stream",
     "text": [
      "('Joe Jacobs', 'H65544', '2004-10-19')\n"
     ]
    }
   ],
   "source": [
    "sql_command = \"\"\"SELECT CustomerName, ChequeNo, PaymentDate\n",
    "FROM Customers \n",
    "INNER JOIN Payment\n",
    "ON Customers.CustomerNo = Payment.CustomerNo\n",
    "WHERE Payment.ChequeNo LIKE \"H%\" AND Payment.PaymentDate= \"2004-10-19\";\"\"\"\n",
    "select= cursor.execute(sql_command)\n",
    "for i in select:\n",
    "    print(i)"
   ]
  },
  {
   "cell_type": "markdown",
   "id": "e0465eae",
   "metadata": {},
   "source": [
    "# 15. Write a SQL query to show all the checkNumber whose amount > 1000\n"
   ]
  },
  {
   "cell_type": "code",
   "execution_count": 51,
   "id": "9efa2a5f",
   "metadata": {},
   "outputs": [
    {
     "name": "stdout",
     "output_type": "stream",
     "text": [
      "('H00025', 10000)\n",
      "('S56854', 30000)\n",
      "('B56584', 55000)\n",
      "('H65544', 25000)\n",
      "('S00054', 80000)\n"
     ]
    }
   ],
   "source": [
    "sql_command = \"\"\"SELECT ChequeNo, Amount FROM Payment\n",
    "WHERE Amount>1000;\"\"\"\n",
    "select= cursor.execute(sql_command)\n",
    "for i in select:\n",
    "    print(i)"
   ]
  },
  {
   "cell_type": "code",
   "execution_count": null,
   "id": "15b06d4e",
   "metadata": {},
   "outputs": [],
   "source": []
  }
 ],
 "metadata": {
  "kernelspec": {
   "display_name": "Python 3 (ipykernel)",
   "language": "python",
   "name": "python3"
  },
  "language_info": {
   "codemirror_mode": {
    "name": "ipython",
    "version": 3
   },
   "file_extension": ".py",
   "mimetype": "text/x-python",
   "name": "python",
   "nbconvert_exporter": "python",
   "pygments_lexer": "ipython3",
   "version": "3.9.7"
  }
 },
 "nbformat": 4,
 "nbformat_minor": 5
}
